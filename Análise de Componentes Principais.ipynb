{
 "cells": [
  {
   "cell_type": "markdown",
   "metadata": {},
   "source": [
    "# Análise de Componentes Principais\n",
    "\n",
    "Atualmente, os dados disponíveis utilizados normalmente contêm diversas *features*, ou seja, diversos preditores que são utilizados por algoritmos de aprendizado de máquina para predição.\n",
    "\n",
    "Porém, nesse contexto, incluir preditores irrelevantes pode causar efeitos negativos no modelo final, como, por exemplo, aumento do tempo computacional demandado na fase de treinamento, redução de performance, etc.\n",
    "\n",
    "Ademais, com a grande quantidade de dados utilizados em modelos atualmente, nem sempre é possível analisar e compreender quais preditores são relevantes para a variável resposta, sendo que alguns preditores individuais podem ter alta correlação/associação com a mesma, ou mesmo combinação de preditores. Assim, é importante tentar indentificar uma combinação que seja relevantes para a resposta.\n",
    "\n",
    "Nesse escopo, temos a análise de Componentes Principais (*Principal Component Analysis - PCA*) como uma técnica de transformação amplamente utilizada em aprendizado de máquina visando redução de dimensionalidade. Especificamente, o objetivo do PCA é encontrar combinações lineares dos preditores originais de modo que as combinações sumarizem o máximo possível de variação (i.e. estatisticamente, perda mínima de informação) no espaço original dos preditores (i.e. subespaço que contém informação relevante).\n",
    "\n",
    "O método, linear, utiliza uma matriz de preditores numéricos (X) e cria novos componentes (*scores*) que são combinações lineares dos dados originais (por isso o método é linear), sendo que a matriz A é chamada de matriz de projeção:\n",
    "\n",
    "$$X_{(nXp)}^*=X_{(nxp)}A_{(pxp)}$$\n",
    "\n",
    "Como resultado, o valor do primeiro score para os dados *i* seriam:\n",
    "\n",
    "$$x_{i1}^*=a_{a11}x_{i1} + a_{21}x_{i2}+...+a_{p1}x_{ip}$$\n",
    "\n",
    "Simultaneamente, os novos scores do PCA devem ser ortogonais, ou seja, não-correlacionados entre si. Essa propriedade faz com que a variabilidade do espaço original seja particionada de forma que não se sobreponha e, assim, a variabilidade condensada sobre todos os componentes principais é exatamente igual à variabilidade sobre os preditores originais (i.e. igual variabilidade). Usualmente, seleciona-se um novo set de variáveis que contabilizam um certo montante pré-definido de variabilidade do espaço original (e.g. projeção com $n$ componentes $\\to$ 85% da variabilidade original).\n",
    "\n",
    "Outro benefício dessa ténica é que os scores são não-correlacionados entre si. Esse fator é de grande importância para determinados algoritmos de aprendizado de máquina que possuem performance inferior na presença de colinearidade (e.g. regressão linear múltipla, redes neurais, SVM, etc.).\n",
    "\n",
    "É importante ter a noção de que a redução de dimensionalidade não deve ser confundida com seleção de preditores, pois ainda que a matriz de projeção tenha menos colunas de preditores, as novas colunas são funções (combinações) de todos os preditores originais.\n",
    "\n",
    "A ideia seria basicamente:\n",
    "\n",
    "1 - Calcular a média das colunas da matriz e centralizar, subtraindo a média\n",
    "\n",
    "2 - Calcular a matriz de covariância\n",
    "\n",
    "3 - Calcular [autovetores e autovalores](https://pt.wikipedia.org/wiki/Autovalores_e_autovetores) e ordená-los\n",
    "\n",
    "4 - Selecionar um subset da matriz de autovetores i.e. número de componentes\n",
    "\n",
    "5 - Transformar os dados através de multiplicação de matrizes: subset transposto do passo 4 e matriz centralizada de médias transposta.\n",
    "\n",
    "Abaixo vemos o passo a passo da realização da **Anális de Componentes Principais** na mão, e uma comparação dos resultados com o método implementado na biblioteca `sklearn`.\n",
    "\n",
    "Referências: [[1]](https://www.amazon.com.br/Feature-Engineering-Selection-Practical-Predictive/dp/1138079227)\n",
    ", [[2]](https://machinelearningmastery.com/calculate-principal-component-analysis-scratch-python/), [[3]](https://www.askpython.com/python/examples/principal-component-analysis)."
   ]
  },
  {
   "cell_type": "markdown",
   "metadata": {},
   "source": [
    "### PCA from scratch"
   ]
  },
  {
   "cell_type": "code",
   "execution_count": 2,
   "metadata": {},
   "outputs": [],
   "source": [
    "import numpy as np"
   ]
  },
  {
   "cell_type": "markdown",
   "metadata": {},
   "source": [
    "1 - Centralizar a matriz:"
   ]
  },
  {
   "cell_type": "code",
   "execution_count": 6,
   "metadata": {
    "scrolled": true
   },
   "outputs": [
    {
     "data": {
      "text/plain": [
       "array([[43, 14, 46, 40, 49, 23, 10, 49, 29, 48],\n",
       "       [13, 16, 24, 32, 39, 27, 17, 28, 38, 44],\n",
       "       [27, 46, 23, 23, 23, 48, 33, 27, 17, 28],\n",
       "       [24, 49, 37, 44, 41, 45, 21, 28, 44, 42],\n",
       "       [33, 38, 17, 20, 17, 36, 23, 39, 20, 24],\n",
       "       [49, 29, 48, 10, 33, 28, 16, 25, 32, 29],\n",
       "       [32, 24, 39, 31, 10, 23, 14, 44, 35, 48],\n",
       "       [42, 22, 28, 37, 17, 18, 39, 31, 47, 10],\n",
       "       [13, 43, 21, 45, 14, 11, 29, 28, 17, 37],\n",
       "       [18, 46, 41, 42, 10, 13, 49, 37, 43, 42],\n",
       "       [15, 23, 13, 18, 36, 35, 42, 37, 14, 17],\n",
       "       [29, 13, 23, 46, 15, 37, 36, 44, 22, 39],\n",
       "       [16, 14, 33, 38, 11, 47, 47, 34, 20, 25],\n",
       "       [18, 47, 45, 37, 21, 49, 10, 27, 43, 39],\n",
       "       [28, 16, 43, 15, 27, 35, 39, 22, 13, 34],\n",
       "       [22, 13, 26, 33, 35, 45, 39, 44, 45, 16],\n",
       "       [40, 44, 43, 31, 37, 47, 44, 12, 30, 17],\n",
       "       [44, 14, 12, 19, 31, 41, 36, 47, 49, 37],\n",
       "       [40, 23, 15, 42, 40, 14, 31, 12, 29, 44],\n",
       "       [20, 38, 48, 36, 26, 18, 31, 13, 28, 15]])"
      ]
     },
     "execution_count": 6,
     "metadata": {},
     "output_type": "execute_result"
    }
   ],
   "source": [
    "# criar matriz nxp = 20x10\n",
    "X = np.random.randint(10,50,200).reshape(20,10)\n",
    "X"
   ]
  },
  {
   "cell_type": "code",
   "execution_count": 7,
   "metadata": {
    "scrolled": false
   },
   "outputs": [
    {
     "data": {
      "text/plain": [
       "array([[ 14.7 , -14.6 ,  14.75,   8.05,  22.4 ,  -9.  , -20.3 ,  17.6 ,\n",
       "         -1.75,  16.25],\n",
       "       [-15.3 , -12.6 ,  -7.25,   0.05,  12.4 ,  -5.  , -13.3 ,  -3.4 ,\n",
       "          7.25,  12.25],\n",
       "       [ -1.3 ,  17.4 ,  -8.25,  -8.95,  -3.6 ,  16.  ,   2.7 ,  -4.4 ,\n",
       "        -13.75,  -3.75],\n",
       "       [ -4.3 ,  20.4 ,   5.75,  12.05,  14.4 ,  13.  ,  -9.3 ,  -3.4 ,\n",
       "         13.25,  10.25],\n",
       "       [  4.7 ,   9.4 , -14.25, -11.95,  -9.6 ,   4.  ,  -7.3 ,   7.6 ,\n",
       "        -10.75,  -7.75],\n",
       "       [ 20.7 ,   0.4 ,  16.75, -21.95,   6.4 ,  -4.  , -14.3 ,  -6.4 ,\n",
       "          1.25,  -2.75],\n",
       "       [  3.7 ,  -4.6 ,   7.75,  -0.95, -16.6 ,  -9.  , -16.3 ,  12.6 ,\n",
       "          4.25,  16.25],\n",
       "       [ 13.7 ,  -6.6 ,  -3.25,   5.05,  -9.6 , -14.  ,   8.7 ,  -0.4 ,\n",
       "         16.25, -21.75],\n",
       "       [-15.3 ,  14.4 , -10.25,  13.05, -12.6 , -21.  ,  -1.3 ,  -3.4 ,\n",
       "        -13.75,   5.25],\n",
       "       [-10.3 ,  17.4 ,   9.75,  10.05, -16.6 , -19.  ,  18.7 ,   5.6 ,\n",
       "         12.25,  10.25],\n",
       "       [-13.3 ,  -5.6 , -18.25, -13.95,   9.4 ,   3.  ,  11.7 ,   5.6 ,\n",
       "        -16.75, -14.75],\n",
       "       [  0.7 , -15.6 ,  -8.25,  14.05, -11.6 ,   5.  ,   5.7 ,  12.6 ,\n",
       "         -8.75,   7.25],\n",
       "       [-12.3 , -14.6 ,   1.75,   6.05, -15.6 ,  15.  ,  16.7 ,   2.6 ,\n",
       "        -10.75,  -6.75],\n",
       "       [-10.3 ,  18.4 ,  13.75,   5.05,  -5.6 ,  17.  , -20.3 ,  -4.4 ,\n",
       "         12.25,   7.25],\n",
       "       [ -0.3 , -12.6 ,  11.75, -16.95,   0.4 ,   3.  ,   8.7 ,  -9.4 ,\n",
       "        -17.75,   2.25],\n",
       "       [ -6.3 , -15.6 ,  -5.25,   1.05,   8.4 ,  13.  ,   8.7 ,  12.6 ,\n",
       "         14.25, -15.75],\n",
       "       [ 11.7 ,  15.4 ,  11.75,  -0.95,  10.4 ,  15.  ,  13.7 , -19.4 ,\n",
       "         -0.75, -14.75],\n",
       "       [ 15.7 , -14.6 , -19.25, -12.95,   4.4 ,   9.  ,   5.7 ,  15.6 ,\n",
       "         18.25,   5.25],\n",
       "       [ 11.7 ,  -5.6 , -16.25,  10.05,  13.4 , -18.  ,   0.7 , -19.4 ,\n",
       "         -1.75,  12.25],\n",
       "       [ -8.3 ,   9.4 ,  16.75,   4.05,  -0.6 , -14.  ,   0.7 , -18.4 ,\n",
       "         -2.75, -16.75]])"
      ]
     },
     "execution_count": 7,
     "metadata": {},
     "output_type": "execute_result"
    }
   ],
   "source": [
    "# centralizar colunas tirando média\n",
    "X_mean = X - np.mean(X, axis=0) \n",
    "X_mean"
   ]
  },
  {
   "cell_type": "markdown",
   "metadata": {},
   "source": [
    "2 - Calcular matriz de variância e covariância:\n",
    "\n",
    "A matriz de covariância é uma matriz quadrada que contém a covariância entre os elementos, e na diagonal, a sua variância i.e. covariância entre o elemento e ele mesmo."
   ]
  },
  {
   "cell_type": "code",
   "execution_count": 9,
   "metadata": {
    "scrolled": false
   },
   "outputs": [
    {
     "data": {
      "text/plain": [
       "array([[ 1.32957895e+02, -3.28210526e+01,  1.28157895e+01,\n",
       "        -3.86157895e+01,  3.98105263e+01, -8.47368421e+00,\n",
       "        -2.39894737e+01,  4.45263158e+00,  2.84473684e+01,\n",
       "        -2.36842105e-01],\n",
       "       [-3.28210526e+01,  1.86989474e+02,  4.38421053e+01,\n",
       "         2.11368421e+01, -2.83263158e+01,  5.36842105e+00,\n",
       "        -1.66105263e+01, -6.91473684e+01,  3.84210526e+00,\n",
       "        -5.78947368e+00],\n",
       "       [ 1.28157895e+01,  4.38421053e+01,  1.54618421e+02,\n",
       "         8.48684211e+00,  3.00000000e+00, -4.21052632e+00,\n",
       "        -4.08157895e+01, -3.61052632e+01,  2.06447368e+01,\n",
       "         1.05394737e+01],\n",
       "       [-3.86157895e+01,  2.11368421e+01,  8.48684211e+00,\n",
       "         1.17944737e+02, -1.85473684e+01, -3.93157895e+01,\n",
       "         1.64736842e+00, -3.15789474e-02,  2.89868421e+01,\n",
       "         3.88289474e+01],\n",
       "       [ 3.98105263e+01, -2.83263158e+01,  3.00000000e+00,\n",
       "        -1.85473684e+01,  1.41410526e+02,  2.00000000e+01,\n",
       "        -3.90315789e+01, -2.31473684e+01,  1.85263158e+01,\n",
       "         1.00526316e+01],\n",
       "       [-8.47368421e+00,  5.36842105e+00, -4.21052632e+00,\n",
       "        -3.93157895e+01,  2.00000000e+01,  1.68105263e+02,\n",
       "         1.25789474e+01,  1.54210526e+01, -9.47368421e-01,\n",
       "        -3.39473684e+01],\n",
       "       [-2.39894737e+01, -1.66105263e+01, -4.08157895e+01,\n",
       "         1.64736842e+00, -3.90315789e+01,  1.25789474e+01,\n",
       "         1.50852632e+02, -1.37578947e+01, -2.39736842e+01,\n",
       "        -7.66052632e+01],\n",
       "       [ 4.45263158e+00, -6.91473684e+01, -3.61052632e+01,\n",
       "        -3.15789474e-02, -2.31473684e+01,  1.54210526e+01,\n",
       "        -1.37578947e+01,  1.28989474e+02,  2.51052632e+01,\n",
       "         3.24210526e+01],\n",
       "       [ 2.84473684e+01,  3.84210526e+00,  2.06447368e+01,\n",
       "         2.89868421e+01,  1.85263158e+01, -9.47368421e-01,\n",
       "        -2.39736842e+01,  2.51052632e+01,  1.39144737e+02,\n",
       "         1.62500000e+01],\n",
       "       [-2.36842105e-01, -5.78947368e+00,  1.05394737e+01,\n",
       "         3.88289474e+01,  1.00526316e+01, -3.39473684e+01,\n",
       "        -7.66052632e+01,  3.24210526e+01,  1.62500000e+01,\n",
       "         1.45671053e+02]])"
      ]
     },
     "execution_count": 9,
     "metadata": {},
     "output_type": "execute_result"
    }
   ],
   "source": [
    "# matriz de variância e covariância\n",
    "COV = np.cov(X_mean.T)\n",
    "COV"
   ]
  },
  {
   "cell_type": "markdown",
   "metadata": {},
   "source": [
    "3 - Calcular autovalores e autovetores:\n",
    "\n",
    "Os autovetores da matriz de covariância são ortogonais entre si, e cada vetor representa um eixo principal. Os maiores autovalores correspondem às maiores variabilidades e, portanto, cada eixo principal com maior autovalor será um eixo capturando a maior variabilidade dos dados e, por isso, ordená-los de maneira decrescente."
   ]
  },
  {
   "cell_type": "code",
   "execution_count": 10,
   "metadata": {},
   "outputs": [],
   "source": [
    "# autovalores e autovetores\n",
    "autovalores, autovetores = np.linalg.eig(COV)"
   ]
  },
  {
   "cell_type": "code",
   "execution_count": 11,
   "metadata": {},
   "outputs": [
    {
     "data": {
      "text/plain": [
       "array([285.57706705, 275.52198606, 225.24381955, 163.34965725,\n",
       "       144.16080363, 121.49022412, 102.54340261,  63.86860577,\n",
       "        45.47843835,  39.45020614])"
      ]
     },
     "execution_count": 11,
     "metadata": {},
     "output_type": "execute_result"
    }
   ],
   "source": [
    "autovalores"
   ]
  },
  {
   "cell_type": "code",
   "execution_count": 12,
   "metadata": {
    "scrolled": true
   },
   "outputs": [
    {
     "data": {
      "text/plain": [
       "array([[ 0.13721635, -0.30927294, -0.36103493, -0.34494554,  0.23923022,\n",
       "         0.2245303 ,  0.38528447,  0.5492624 , -0.27985232,  0.00962778],\n",
       "       [ 0.19501726,  0.68983015, -0.128715  ,  0.20074701, -0.02384926,\n",
       "        -0.1047248 ,  0.51449175,  0.06509599, -0.02967168, -0.38455167],\n",
       "       [ 0.37400035,  0.27075408, -0.28182748, -0.02595925,  0.18806582,\n",
       "         0.52339429, -0.59575157,  0.01238445,  0.05775293, -0.19747483],\n",
       "       [ 0.21606306,  0.15882632,  0.42082098,  0.07498363,  0.24331578,\n",
       "        -0.36180072, -0.30811146,  0.31037154, -0.60005446,  0.06282729],\n",
       "       [ 0.17185216, -0.25623599, -0.45615749, -0.15213615, -0.13198953,\n",
       "        -0.62660378, -0.23194982, -0.09786934,  0.00106457, -0.4473825 ],\n",
       "       [-0.26677857, -0.04765958, -0.45088162,  0.74547559, -0.05903555,\n",
       "        -0.04221416, -0.13549906,  0.30468777, -0.0809473 ,  0.2109866 ],\n",
       "       [-0.56688152,  0.13885152,  0.13650558, -0.15417068,  0.35611533,\n",
       "        -0.10591427, -0.17065862,  0.42462374,  0.38857922, -0.34424376],\n",
       "       [-0.02013934, -0.44081417,  0.28493793,  0.39453288,  0.09935114,\n",
       "         0.28683306,  0.10774183, -0.13449483, -0.19913838, -0.63791406],\n",
       "       [ 0.29524386, -0.13140056, -0.04454615,  0.22114154,  0.76137916,\n",
       "        -0.20855255,  0.15526439, -0.23218206,  0.32325345,  0.19742416],\n",
       "       [ 0.4969379 , -0.17652122,  0.28876904,  0.16495198, -0.33216767,\n",
       "        -0.04876452, -0.00104781,  0.49282221,  0.50567304,  0.00169761]])"
      ]
     },
     "execution_count": 12,
     "metadata": {},
     "output_type": "execute_result"
    }
   ],
   "source": [
    "autovetores"
   ]
  },
  {
   "cell_type": "code",
   "execution_count": 13,
   "metadata": {},
   "outputs": [],
   "source": [
    "# ordenar autovalores e autovetores de forma decrescente\n",
    "sorted_ind = np.argsort(autovalores)[::-1]\n",
    "\n",
    "autovalores_sort = autovalores[sorted_ind]\n",
    "autovetores_sort = autovetores[sorted_ind]"
   ]
  },
  {
   "cell_type": "code",
   "execution_count": 14,
   "metadata": {},
   "outputs": [
    {
     "data": {
      "text/plain": [
       "array([285.57706705, 275.52198606, 225.24381955, 163.34965725,\n",
       "       144.16080363, 121.49022412, 102.54340261,  63.86860577,\n",
       "        45.47843835,  39.45020614])"
      ]
     },
     "execution_count": 14,
     "metadata": {},
     "output_type": "execute_result"
    }
   ],
   "source": [
    "autovalores_sort"
   ]
  },
  {
   "cell_type": "code",
   "execution_count": 16,
   "metadata": {},
   "outputs": [
    {
     "data": {
      "text/plain": [
       "array([[ 0.13721635, -0.30927294, -0.36103493, -0.34494554,  0.23923022,\n",
       "         0.2245303 ,  0.38528447,  0.5492624 , -0.27985232,  0.00962778],\n",
       "       [ 0.19501726,  0.68983015, -0.128715  ,  0.20074701, -0.02384926,\n",
       "        -0.1047248 ,  0.51449175,  0.06509599, -0.02967168, -0.38455167],\n",
       "       [ 0.37400035,  0.27075408, -0.28182748, -0.02595925,  0.18806582,\n",
       "         0.52339429, -0.59575157,  0.01238445,  0.05775293, -0.19747483],\n",
       "       [ 0.21606306,  0.15882632,  0.42082098,  0.07498363,  0.24331578,\n",
       "        -0.36180072, -0.30811146,  0.31037154, -0.60005446,  0.06282729],\n",
       "       [ 0.17185216, -0.25623599, -0.45615749, -0.15213615, -0.13198953,\n",
       "        -0.62660378, -0.23194982, -0.09786934,  0.00106457, -0.4473825 ],\n",
       "       [-0.26677857, -0.04765958, -0.45088162,  0.74547559, -0.05903555,\n",
       "        -0.04221416, -0.13549906,  0.30468777, -0.0809473 ,  0.2109866 ],\n",
       "       [-0.56688152,  0.13885152,  0.13650558, -0.15417068,  0.35611533,\n",
       "        -0.10591427, -0.17065862,  0.42462374,  0.38857922, -0.34424376],\n",
       "       [-0.02013934, -0.44081417,  0.28493793,  0.39453288,  0.09935114,\n",
       "         0.28683306,  0.10774183, -0.13449483, -0.19913838, -0.63791406],\n",
       "       [ 0.29524386, -0.13140056, -0.04454615,  0.22114154,  0.76137916,\n",
       "        -0.20855255,  0.15526439, -0.23218206,  0.32325345,  0.19742416],\n",
       "       [ 0.4969379 , -0.17652122,  0.28876904,  0.16495198, -0.33216767,\n",
       "        -0.04876452, -0.00104781,  0.49282221,  0.50567304,  0.00169761]])"
      ]
     },
     "execution_count": 16,
     "metadata": {},
     "output_type": "execute_result"
    }
   ],
   "source": [
    "autovetores_sort"
   ]
  },
  {
   "cell_type": "markdown",
   "metadata": {},
   "source": [
    "4 - Selecionar um subset da matriz de autovetores reordenada:\n",
    "\n",
    "Selecionar o subset i.e. o número de componentes."
   ]
  },
  {
   "cell_type": "code",
   "execution_count": 27,
   "metadata": {
    "scrolled": true
   },
   "outputs": [],
   "source": [
    "# selecionar número de componentes principais\n",
    "n_components = 2\n",
    "\n",
    "# selecionar subset\n",
    "autovetores_subset = autovetores_sort[:,0:n_components]\n",
    "autovalores_subset = autovalores_sort[:2]"
   ]
  },
  {
   "cell_type": "code",
   "execution_count": 19,
   "metadata": {},
   "outputs": [
    {
     "data": {
      "text/plain": [
       "array([[ 0.13721635, -0.30927294],\n",
       "       [ 0.19501726,  0.68983015],\n",
       "       [ 0.37400035,  0.27075408],\n",
       "       [ 0.21606306,  0.15882632],\n",
       "       [ 0.17185216, -0.25623599],\n",
       "       [-0.26677857, -0.04765958],\n",
       "       [-0.56688152,  0.13885152],\n",
       "       [-0.02013934, -0.44081417],\n",
       "       [ 0.29524386, -0.13140056],\n",
       "       [ 0.4969379 , -0.17652122]])"
      ]
     },
     "execution_count": 19,
     "metadata": {},
     "output_type": "execute_result"
    }
   ],
   "source": [
    "autovetores_subset"
   ]
  },
  {
   "cell_type": "code",
   "execution_count": 28,
   "metadata": {},
   "outputs": [
    {
     "data": {
      "text/plain": [
       "array([285.57706705, 275.52198606])"
      ]
     },
     "execution_count": 28,
     "metadata": {},
     "output_type": "execute_result"
    }
   ],
   "source": [
    "# não utilzado na projeção, somente para fins de comparação com os resultados do sklearn\n",
    "autovalores_subset"
   ]
  },
  {
   "cell_type": "markdown",
   "metadata": {},
   "source": [
    "6 - Transformar os dados:\n",
    "\n",
    "Projeção do número de componentes principais selecionados."
   ]
  },
  {
   "cell_type": "code",
   "execution_count": 20,
   "metadata": {},
   "outputs": [],
   "source": [
    "X_reduced = np.dot(autovetores_subset.T, X_mean.T).T"
   ]
  },
  {
   "cell_type": "code",
   "execution_count": 21,
   "metadata": {},
   "outputs": [
    {
     "data": {
      "text/plain": [
       "array([[ 31.38794333, -27.87194182],\n",
       "       [ 12.04353787, -12.31703407],\n",
       "       [-14.05656029,  13.69297277],\n",
       "       [ 21.49499989,  11.22077826],\n",
       "       [-11.19023858,  -0.03938066],\n",
       "       [ 13.84504845,  -5.36958004],\n",
       "       [ 20.16856552,  -8.93207632],\n",
       "       [ -8.38101348,  -2.65228529],\n",
       "       [  2.48671086,  20.39059138],\n",
       "       [  8.01084183,  21.29262691],\n",
       "       [-30.96204836,  -5.49755404],\n",
       "       [ -8.78897701, -13.1388421 ],\n",
       "       [-25.30338924,   2.22642124],\n",
       "       [ 21.72684968,  17.25949707],\n",
       "       [-11.36276955,  -1.06844825],\n",
       "       [-16.47310292, -16.27807802],\n",
       "       [ -8.34331523,  19.81191748],\n",
       "       [ -7.88361009, -33.16234069],\n",
       "       [  9.27679455,  -6.14422442],\n",
       "       [  2.30373275,  26.57698061]])"
      ]
     },
     "execution_count": 21,
     "metadata": {},
     "output_type": "execute_result"
    }
   ],
   "source": [
    "X_reduced"
   ]
  },
  {
   "cell_type": "markdown",
   "metadata": {},
   "source": [
    "### PCA da biblioteca `sklearn`:"
   ]
  },
  {
   "cell_type": "code",
   "execution_count": 22,
   "metadata": {},
   "outputs": [],
   "source": [
    "from sklearn.decomposition import PCA"
   ]
  },
  {
   "cell_type": "code",
   "execution_count": 23,
   "metadata": {},
   "outputs": [],
   "source": [
    "# instanciar PCA com 2 componentes\n",
    "pca = PCA(n_components=2) "
   ]
  },
  {
   "cell_type": "code",
   "execution_count": 24,
   "metadata": {},
   "outputs": [
    {
     "data": {
      "text/plain": [
       "PCA(n_components=2)"
      ]
     },
     "execution_count": 24,
     "metadata": {},
     "output_type": "execute_result"
    }
   ],
   "source": [
    "# fit na matriz\n",
    "pca.fit(X) "
   ]
  },
  {
   "cell_type": "code",
   "execution_count": 25,
   "metadata": {},
   "outputs": [
    {
     "data": {
      "text/plain": [
       "array([285.57706705, 275.52198606])"
      ]
     },
     "execution_count": 25,
     "metadata": {},
     "output_type": "execute_result"
    }
   ],
   "source": [
    "# autovalores\n",
    "pca.explained_variance_ "
   ]
  },
  {
   "cell_type": "code",
   "execution_count": 26,
   "metadata": {},
   "outputs": [
    {
     "data": {
      "text/plain": [
       "array([[ 0.13721635,  0.19501726,  0.37400035,  0.21606306,  0.17185216,\n",
       "        -0.26677857, -0.56688152, -0.02013934,  0.29524386,  0.4969379 ],\n",
       "       [ 0.30927294, -0.68983015, -0.27075408, -0.15882632,  0.25623599,\n",
       "         0.04765958, -0.13885152,  0.44081417,  0.13140056,  0.17652122]])"
      ]
     },
     "execution_count": 26,
     "metadata": {},
     "output_type": "execute_result"
    }
   ],
   "source": [
    "# autovalores\n",
    "pca.components_ "
   ]
  },
  {
   "cell_type": "code",
   "execution_count": 30,
   "metadata": {},
   "outputs": [
    {
     "data": {
      "text/plain": [
       "array([[ 31.38794333,  27.87194182],\n",
       "       [ 12.04353787,  12.31703407],\n",
       "       [-14.05656029, -13.69297277],\n",
       "       [ 21.49499989, -11.22077826],\n",
       "       [-11.19023858,   0.03938066],\n",
       "       [ 13.84504845,   5.36958004],\n",
       "       [ 20.16856552,   8.93207632],\n",
       "       [ -8.38101348,   2.65228529],\n",
       "       [  2.48671086, -20.39059138],\n",
       "       [  8.01084183, -21.29262691],\n",
       "       [-30.96204836,   5.49755404],\n",
       "       [ -8.78897701,  13.1388421 ],\n",
       "       [-25.30338924,  -2.22642124],\n",
       "       [ 21.72684968, -17.25949707],\n",
       "       [-11.36276955,   1.06844825],\n",
       "       [-16.47310292,  16.27807802],\n",
       "       [ -8.34331523, -19.81191748],\n",
       "       [ -7.88361009,  33.16234069],\n",
       "       [  9.27679455,   6.14422442],\n",
       "       [  2.30373275, -26.57698061]])"
      ]
     },
     "execution_count": 30,
     "metadata": {},
     "output_type": "execute_result"
    }
   ],
   "source": [
    "# projeção dos dois primeiros componentes principais\n",
    "pca.transform(X)"
   ]
  }
 ],
 "metadata": {
  "kernelspec": {
   "display_name": "Python 3",
   "language": "python",
   "name": "python3"
  },
  "language_info": {
   "codemirror_mode": {
    "name": "ipython",
    "version": 3
   },
   "file_extension": ".py",
   "mimetype": "text/x-python",
   "name": "python",
   "nbconvert_exporter": "python",
   "pygments_lexer": "ipython3",
   "version": "3.8.3"
  }
 },
 "nbformat": 4,
 "nbformat_minor": 4
}
