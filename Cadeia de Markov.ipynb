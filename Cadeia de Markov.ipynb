{
 "cells": [
  {
   "cell_type": "markdown",
   "metadata": {},
   "source": [
    "# Cadeia de Markov\n",
    "---\n",
    "\n",
    "Cadeias de Markov são *processos estocásticos sem memória*, a probabilidade de mudança para um estado $n+1$ depende unicamente do estado atual $n$.\n",
    "\n",
    "Formalmente, considere um processo $X_n, n \\in N$, sendo $N$ os números naturais, o processo é uma **Cadeia de Markov** se:\n",
    "\n",
    "$$ P(X_{n+1}=j|X_0=i_0,X_1=i_1,...,X_n=i_n)=P(X_{n+1}=j|X_n=i) $$\n",
    "\n",
    "para todos os estados $i,j,i_0,i_1,...,i_n$.\n",
    "\n",
    "Considere a seguinte matriz:\n",
    "\n",
    "$$ P = \\begin{bmatrix} P_{00}&P_{01}&P_{03} \\\\ P_{10}&P_{11}&P_{12} \\\\ P_{20}&P_{21}&P_{22} \\end{bmatrix} $$\n",
    "\n",
    "A matriz $P$ é chamada de *matriz de transição* ou *matriz markoviana* se:\n",
    "\n",
    "- $\\forall i \\in S, P_{ij} \\ge 0 $, onde $S$ é o conjunto de estados;\n",
    "- $\\sum_{j \\in S}=1, \\forall i \\in S $\n",
    "\n",
    "sendo que o processo é totalmente definido pela matriz de transição e a distribuição de probabilidade de $X_0$, e para $P_ij$ temos que $i$ representa o estado $n$ e $j$ representa o estado $n+1$ e.g. $P_{01}$ é a probabilidade de transição do estado $0$ para o estado $1$.\n",
    "\n",
    "Lembrando que a matriz markoviana pode ser representada graficamente através de um grafo. Considere a matriz de transição a seguir:\n",
    "\n",
    "$$ P = \\begin{bmatrix} P_{11}&P_{12}&P_{13} \\\\ P_{21}&P_{22}&P_{23} \\\\ P_{31}&P_{32}&P_{33} \\end{bmatrix} = \\begin{bmatrix} 0.0585&0.34&0.597 \\\\ 0.35&0&0.65 \\\\ 0.2982&0.3275&0.3743 \\end{bmatrix} $$\n",
    "\n",
    "A mesma pode ser representada graficamente como:\n",
    "\n",
    "![](https://upload.wikimedia.org/wikipedia/commons/thumb/5/5b/Mvchain_approx_C2.png/400px-Mvchain_approx_C2.png)\n",
    "\n",
    "---"
   ]
  },
  {
   "cell_type": "markdown",
   "metadata": {},
   "source": [
    "## Simulação\n",
    "---\n",
    "\n",
    "Considere o lançamento de uma moeda, repetido sucessivas vezes até que duas caras apareçam em sequência. Considere a árvore de decisão a seguir, onde temos o estado $n$ e o estado $n+1$.\n",
    "\n",
    "![image](https://user-images.githubusercontent.com/63553829/107387670-d0e14500-6ad3-11eb-83d3-740d46e77760.png)\n",
    "\n",
    "Sua matriz de transição é:\n",
    "\n",
    "$$ P = \\begin{bmatrix} 1/2&1/2&0 \\\\ 1/2&0&1/2 \\\\ 0&0&1 \\end{bmatrix} $$\n",
    "\n",
    "Assim, podemos calcular o número médio de lançamentos necessários (valor esperado) utilizando a **Análise do primeiro passo**:\n",
    "\n",
    "$$ v_i = E(T|X_0 = i), \\ i=0,1,...,n$$\n",
    "\n",
    "Portanto, temos que:\n",
    "\n",
    "$$ v_0 = E(T|X_0=0) = \\sum_{k=0}^{2}E(T|X_0=0,X_1=k)P_{0k} = 1 + \\frac{v_0}{2} + \\frac{v_1}{2} $$\n",
    "\n",
    "Calculando $v_1$ para resolver a desigualdade, temos:\n",
    "\n",
    "$$ v_1 = E(T|X_0=1) = \\sum_{k=0}^{2}E(T|X_0=1,X_1=k)P_{1k} = 1 + \\frac{v_0}{2} $$\n",
    "\n",
    "Por fim, temos que $v_0$ = 6 lançamentos, ou seja, o número médio de lançamentos da moeda para que duas caras ocorram em seguida é igual a seis.\n",
    "\n",
    "A seguir é realizada uma simulação para calcular o valor esperado.\n",
    "\n",
    "PS: Este notebook foi elaborado como parte da disciplina \"Introdução à Teoria das Probabilidades\", oferecida como extensão pelo ICMC/USP.\n",
    "\n",
    "Referência: [[1]](https://www.youtube.com/watch?v=0ymZ2Iv_9q8&list=PLSc7xcwCGNh0jSylDm0QrDJaFTC3vAbvc&index=3&ab_channel=FranciscoRodrigues)"
   ]
  },
  {
   "cell_type": "code",
   "execution_count": 1,
   "metadata": {},
   "outputs": [],
   "source": [
    "import numpy as np"
   ]
  },
  {
   "cell_type": "code",
   "execution_count": 43,
   "metadata": {
    "scrolled": true
   },
   "outputs": [
    {
     "name": "stdout",
     "output_type": "stream",
     "text": [
      "Número de simulações: 1000\n",
      "Valor médio de lançamentos teórico: 6\n",
      "Valor médio de lançamentos simulado: 6.051\n"
     ]
    }
   ],
   "source": [
    "Ns = int(input('Número de simulações: '))\n",
    "\n",
    "# lista para guardar o total de caras de cada simulação\n",
    "v = [] \n",
    "\n",
    "for i in range(Ns):\n",
    "    \n",
    "    # lista para guardar os valores da simulação Ns\n",
    "    r = []  \n",
    "\n",
    "    while True:\n",
    "\n",
    "        if np.random.uniform()<0.5:\n",
    "            # se valor aleatório for inferior a 0.5 <- append 1 (cara)\n",
    "            r.append(1)\n",
    "        else:\n",
    "            # se valor aleatório for superior a 0.5 <- append 0 (coroa)\n",
    "            r.append(0)\n",
    "\n",
    "        if len(r) > 1:\n",
    "            # se duas caras seguidas <- break\n",
    "            if r[-1] == 1 and r[-2] == 1:\n",
    "                break\n",
    "\n",
    "    v.append(len(r))\n",
    "\n",
    "print('Valor médio de lançamentos teórico:',6)\n",
    "print('Valor médio de lançamentos simulado:',np.mean(v))\n"
   ]
  },
  {
   "cell_type": "code",
   "execution_count": null,
   "metadata": {},
   "outputs": [],
   "source": []
  }
 ],
 "metadata": {
  "kernelspec": {
   "display_name": "Python 3",
   "language": "python",
   "name": "python3"
  },
  "language_info": {
   "codemirror_mode": {
    "name": "ipython",
    "version": 3
   },
   "file_extension": ".py",
   "mimetype": "text/x-python",
   "name": "python",
   "nbconvert_exporter": "python",
   "pygments_lexer": "ipython3",
   "version": "3.8.3"
  }
 },
 "nbformat": 4,
 "nbformat_minor": 4
}
