{
 "cells": [
  {
   "cell_type": "markdown",
   "metadata": {},
   "source": [
    "# Entropia de Shannon\n",
    "\n",
    "Em um conceito de aprendizado de máquina como segmentação supervisionada, é importante compreender como é possível segmentar a população - divisão em grupos que diferem entre si - com respeito a uma variável de interesse que gostaríamos de prever ou estimar, encontrando ou selecionando variáveis importantes e com informação, sendo que, nesse caso, *informação é uma quantidade que reduz a incerteza acerca de algo*. \n",
    "\n",
    "Portanto, gostaríamos de encontrar um conjunto de atributos que possuem associação com a variável de interesse, ou seja, que são capazes de reduzir a incerteza acerca dessa variável, resultando em grupos que sejam os mais *puros* possíveis, ou seja, *homogêneos em função da variável resposta*.\n",
    "\n",
    "Um dos critérios de segmentação mais comuns é o chamado *ganho de informação*, baseado em uma medida chamada *entropia*, medida de desordem de determinado conjunto, ou seja, quão impuro/misturado está um grupo da segmentação em respeito à variável de interesse.\n",
    "\n",
    "### Caracterização\n",
    "\n",
    "Considere as medidas em um experimento aleatório através de um vetor aleatório $X = (X_1,X_2,...,X_n)$ com função de densidade de probabilidade $f$. Assim, toda informação acerca do experimento i.e. conhecimento probabilístico está contido na fdp $f$. \n",
    "\n",
    "Entretanto, na maioria dos casos, deseja-se caracterizar a informação acerca de experimentos com alguns números chave e.g. *valor esperado* ou *matriz de covariância* de $X$, os quais possuem informação acerca da *média* e *variabilidade* das medidas, respectivamente.\n",
    "\n",
    "Outra medida de informação, advinda da Teoria da Informação, é a Entropia de Shannon, a qual carcteriza o número médio de bits necessários para transmitir uma mensagem de $X$ por um canal de comunicação binário. Entretanto, outra abordagem da informação é encontrada na estatísica: quão bem um parâmetro $\\theta$ pode ser estimado em função de $X$ i.e. quanta informação acerca de $\\theta$ está contida em $X$, expressa como:\n",
    "\n",
    "$$entropia = -\\sum_{i=1}^{n}p(x_i)log(p(x_i))$$\n",
    "\n",
    "Sumarizando, a entropia é uma medida geral de desordem do conjunto, sendo, portanto, mínima quando existe desordem mínima (conjunto homogêneo) e máxima quando a desordem é máxima (conjunto heterogêneo igualmente misturado). Aqui é importante denotar que a é fechada em 0, mas aberta em 1, variando de acordo com o logaritmo utizado, sendo comum log na base 2 - medida em número de bits.\n",
    "\n",
    "Agora, após caracterizar *entropia*, é importante conhecer qual o *ganho de infomação (information gain - IG)* que determinado atributo apresenta, ou seja, quanto um atributo melhora (decreasce) a entropia sobre um conjunto criado.\n",
    "\n",
    "Portanto, a seguir é apresentado um exemplo passo a passo de como atributos podem reduzir a entropia, produzindo ganho de informação em relação a uma variável resposta.\n",
    "\n",
    "Referências:\n",
    "- **Simulation and the monte carlo method** -. 2nd ed. / Reuven Y. Rubinstein. Dirk P. Kroese. ISBN 978-0-470-1 7794-5.\n",
    "- **Data Science for Business** by Foster Provost and Tom Fawcett. O’Reilly. Copyright 2013 Foster Provost and Tom Fawcett, ISBN 978-1-449-36132-7.\n"
   ]
  },
  {
   "cell_type": "markdown",
   "metadata": {},
   "source": [
    "- Importar bibliotecas:"
   ]
  },
  {
   "cell_type": "code",
   "execution_count": 22,
   "metadata": {},
   "outputs": [],
   "source": [
    "import numpy as np\n",
    "import pandas as pd\n",
    "\n",
    "np.random.seed(42)"
   ]
  },
  {
   "cell_type": "markdown",
   "metadata": {},
   "source": [
    "- Criar variáveis independentes `A` e `B`, e variável dependente (variável resposta) `y`, sendo que:\n",
    "\n",
    "    - `A`: quantitativa discreta\n",
    "    - `B`: qualitativa ordinal\n",
    "    - `y`: qualitativa binária"
   ]
  },
  {
   "cell_type": "code",
   "execution_count": 23,
   "metadata": {},
   "outputs": [],
   "source": [
    "# criar variáveis\n",
    "A = np.random.randint(0,20,50)\n",
    "B = np.random.randint(0,3,50)\n",
    "y = np.random.randint(0,2,50)"
   ]
  },
  {
   "cell_type": "code",
   "execution_count": 24,
   "metadata": {},
   "outputs": [
    {
     "data": {
      "text/plain": [
       "(array([ 6, 19, 14, 10,  7,  6, 18, 10, 10,  3,  7,  2,  1, 11,  5,  1,  0,\n",
       "        11, 11, 16,  9, 15, 14, 14, 18, 11, 19,  2,  4, 18,  6,  8,  6, 17,\n",
       "         3, 13, 17,  8,  1, 19, 14,  6, 11,  7, 14,  2, 13, 16,  3, 17]),\n",
       " array([1, 1, 1, 1, 1, 1, 0, 2, 1, 1, 1, 1, 1, 1, 2, 2, 1, 2, 0, 1, 0, 0,\n",
       "        1, 2, 0, 1, 0, 0, 0, 0, 2, 0, 0, 0, 2, 0, 0, 2, 2, 2, 0, 2, 2, 0,\n",
       "        2, 0, 1, 2, 1, 0]),\n",
       " array([1, 0, 0, 1, 1, 1, 0, 1, 0, 0, 1, 1, 0, 0, 1, 1, 1, 0, 0, 0, 0, 0,\n",
       "        0, 1, 0, 0, 0, 1, 0, 0, 1, 0, 0, 0, 0, 0, 1, 1, 1, 0, 0, 0, 1, 0,\n",
       "        0, 1, 0, 1, 1, 1]))"
      ]
     },
     "execution_count": 24,
     "metadata": {},
     "output_type": "execute_result"
    }
   ],
   "source": [
    "# mostrar as variáveis\n",
    "A,B,y"
   ]
  },
  {
   "cell_type": "markdown",
   "metadata": {},
   "source": [
    "- Criar dataframe do Pandas para facilitar análise, e mostrar 5 primeiras linhas:"
   ]
  },
  {
   "cell_type": "code",
   "execution_count": 14,
   "metadata": {},
   "outputs": [],
   "source": [
    "# criar dataframe\n",
    "df = pd.DataFrame(data={\n",
    "    'A':A,\n",
    "    'B':B,\n",
    "    'y':y\n",
    "})"
   ]
  },
  {
   "cell_type": "code",
   "execution_count": 16,
   "metadata": {},
   "outputs": [
    {
     "data": {
      "text/html": [
       "<div>\n",
       "<style scoped>\n",
       "    .dataframe tbody tr th:only-of-type {\n",
       "        vertical-align: middle;\n",
       "    }\n",
       "\n",
       "    .dataframe tbody tr th {\n",
       "        vertical-align: top;\n",
       "    }\n",
       "\n",
       "    .dataframe thead th {\n",
       "        text-align: right;\n",
       "    }\n",
       "</style>\n",
       "<table border=\"1\" class=\"dataframe\">\n",
       "  <thead>\n",
       "    <tr style=\"text-align: right;\">\n",
       "      <th></th>\n",
       "      <th>A</th>\n",
       "      <th>B</th>\n",
       "      <th>y</th>\n",
       "    </tr>\n",
       "  </thead>\n",
       "  <tbody>\n",
       "    <tr>\n",
       "      <th>0</th>\n",
       "      <td>18</td>\n",
       "      <td>0</td>\n",
       "      <td>0</td>\n",
       "    </tr>\n",
       "    <tr>\n",
       "      <th>1</th>\n",
       "      <td>12</td>\n",
       "      <td>1</td>\n",
       "      <td>1</td>\n",
       "    </tr>\n",
       "    <tr>\n",
       "      <th>2</th>\n",
       "      <td>17</td>\n",
       "      <td>1</td>\n",
       "      <td>0</td>\n",
       "    </tr>\n",
       "    <tr>\n",
       "      <th>3</th>\n",
       "      <td>5</td>\n",
       "      <td>0</td>\n",
       "      <td>0</td>\n",
       "    </tr>\n",
       "    <tr>\n",
       "      <th>4</th>\n",
       "      <td>3</td>\n",
       "      <td>0</td>\n",
       "      <td>1</td>\n",
       "    </tr>\n",
       "  </tbody>\n",
       "</table>\n",
       "</div>"
      ],
      "text/plain": [
       "    A  B  y\n",
       "0  18  0  0\n",
       "1  12  1  1\n",
       "2  17  1  0\n",
       "3   5  0  0\n",
       "4   3  0  1"
      ]
     },
     "execution_count": 16,
     "metadata": {},
     "output_type": "execute_result"
    }
   ],
   "source": [
    "# mostrar head\n",
    "df.head()"
   ]
  },
  {
   "cell_type": "markdown",
   "metadata": {},
   "source": [
    "- Aqui, chamaremos o conjunto original de *conjunto pai*, e realizaremos a segmentação do conjunto em função dos atributos em $k$ *conjuntos filho*, calculando o ganho de informação (*IG*) para cada atributo.\n",
    "\n"
   ]
  },
  {
   "cell_type": "markdown",
   "metadata": {},
   "source": [
    "## Entropia para o `conjunto pai`"
   ]
  },
  {
   "cell_type": "markdown",
   "metadata": {},
   "source": [
    "Primeiramente, calculamos a entropia do conjunto pai:"
   ]
  },
  {
   "cell_type": "code",
   "execution_count": 27,
   "metadata": {},
   "outputs": [],
   "source": [
    "# calcular as proporções da variável resposta:\n",
    "p0 = df['y'].value_counts()[0]/df.shape[0]\n",
    "p1 = df['y'].value_counts()[1]/df.shape[0]"
   ]
  },
  {
   "cell_type": "code",
   "execution_count": 28,
   "metadata": {},
   "outputs": [
    {
     "data": {
      "text/plain": [
       "0.9895875212220556"
      ]
     },
     "execution_count": 28,
     "metadata": {},
     "output_type": "execute_result"
    }
   ],
   "source": [
    "# calcular entropia do conjunto pai\n",
    "entropia_pai = -(p0*np.log2(p0) + p1*np.log2(p1))\n",
    "entropia_pai"
   ]
  },
  {
   "cell_type": "markdown",
   "metadata": {},
   "source": [
    "- Nota-se que a entropia do *conjunto pai* é alta, ou seja, o conjunto é bem impuro, com as classes da variável resposta homogêneas, como pode-se notar a seguir, onde a class 0 possui 28 instâncias (56% do total), e a class 1 possui 22 (44 % do total):"
   ]
  },
  {
   "cell_type": "code",
   "execution_count": 29,
   "metadata": {},
   "outputs": [
    {
     "data": {
      "text/plain": [
       "0    28\n",
       "1    22\n",
       "Name: y, dtype: int64"
      ]
     },
     "execution_count": 29,
     "metadata": {},
     "output_type": "execute_result"
    }
   ],
   "source": [
    "df['y'].value_counts()"
   ]
  },
  {
   "cell_type": "markdown",
   "metadata": {},
   "source": [
    "## Ganho de informação para variável `A`"
   ]
  },
  {
   "cell_type": "markdown",
   "metadata": {},
   "source": [
    "- A seguir, dividimos o dataset em função da variável `A` em função de sua mediana, a qual resulta em dois conjuntos com o mesmo número de instâncias - 25:"
   ]
  },
  {
   "cell_type": "code",
   "execution_count": 35,
   "metadata": {},
   "outputs": [],
   "source": [
    "filho_esquerda_A = df[df['A'] <= df['A'].median()]\n",
    "filho_direita_A = df[df['A'] > df['A'].median()]"
   ]
  },
  {
   "cell_type": "code",
   "execution_count": 36,
   "metadata": {},
   "outputs": [
    {
     "name": "stdout",
     "output_type": "stream",
     "text": [
      "(25, 3)\n"
     ]
    },
    {
     "data": {
      "text/html": [
       "<div>\n",
       "<style scoped>\n",
       "    .dataframe tbody tr th:only-of-type {\n",
       "        vertical-align: middle;\n",
       "    }\n",
       "\n",
       "    .dataframe tbody tr th {\n",
       "        vertical-align: top;\n",
       "    }\n",
       "\n",
       "    .dataframe thead th {\n",
       "        text-align: right;\n",
       "    }\n",
       "</style>\n",
       "<table border=\"1\" class=\"dataframe\">\n",
       "  <thead>\n",
       "    <tr style=\"text-align: right;\">\n",
       "      <th></th>\n",
       "      <th>A</th>\n",
       "      <th>B</th>\n",
       "      <th>y</th>\n",
       "    </tr>\n",
       "  </thead>\n",
       "  <tbody>\n",
       "    <tr>\n",
       "      <th>3</th>\n",
       "      <td>5</td>\n",
       "      <td>0</td>\n",
       "      <td>0</td>\n",
       "    </tr>\n",
       "    <tr>\n",
       "      <th>4</th>\n",
       "      <td>3</td>\n",
       "      <td>0</td>\n",
       "      <td>1</td>\n",
       "    </tr>\n",
       "    <tr>\n",
       "      <th>7</th>\n",
       "      <td>7</td>\n",
       "      <td>2</td>\n",
       "      <td>0</td>\n",
       "    </tr>\n",
       "    <tr>\n",
       "      <th>9</th>\n",
       "      <td>0</td>\n",
       "      <td>0</td>\n",
       "      <td>0</td>\n",
       "    </tr>\n",
       "    <tr>\n",
       "      <th>10</th>\n",
       "      <td>4</td>\n",
       "      <td>0</td>\n",
       "      <td>1</td>\n",
       "    </tr>\n",
       "  </tbody>\n",
       "</table>\n",
       "</div>"
      ],
      "text/plain": [
       "    A  B  y\n",
       "3   5  0  0\n",
       "4   3  0  1\n",
       "7   7  2  0\n",
       "9   0  0  0\n",
       "10  4  0  1"
      ]
     },
     "execution_count": 36,
     "metadata": {},
     "output_type": "execute_result"
    }
   ],
   "source": [
    "print(filho_esquerda_A.shape)\n",
    "filho_esquerda_A.head()"
   ]
  },
  {
   "cell_type": "code",
   "execution_count": 34,
   "metadata": {},
   "outputs": [
    {
     "name": "stdout",
     "output_type": "stream",
     "text": [
      "(25, 3)\n"
     ]
    },
    {
     "data": {
      "text/html": [
       "<div>\n",
       "<style scoped>\n",
       "    .dataframe tbody tr th:only-of-type {\n",
       "        vertical-align: middle;\n",
       "    }\n",
       "\n",
       "    .dataframe tbody tr th {\n",
       "        vertical-align: top;\n",
       "    }\n",
       "\n",
       "    .dataframe thead th {\n",
       "        text-align: right;\n",
       "    }\n",
       "</style>\n",
       "<table border=\"1\" class=\"dataframe\">\n",
       "  <thead>\n",
       "    <tr style=\"text-align: right;\">\n",
       "      <th></th>\n",
       "      <th>A</th>\n",
       "      <th>B</th>\n",
       "      <th>y</th>\n",
       "    </tr>\n",
       "  </thead>\n",
       "  <tbody>\n",
       "    <tr>\n",
       "      <th>0</th>\n",
       "      <td>18</td>\n",
       "      <td>0</td>\n",
       "      <td>0</td>\n",
       "    </tr>\n",
       "    <tr>\n",
       "      <th>1</th>\n",
       "      <td>12</td>\n",
       "      <td>1</td>\n",
       "      <td>1</td>\n",
       "    </tr>\n",
       "    <tr>\n",
       "      <th>2</th>\n",
       "      <td>17</td>\n",
       "      <td>1</td>\n",
       "      <td>0</td>\n",
       "    </tr>\n",
       "    <tr>\n",
       "      <th>5</th>\n",
       "      <td>18</td>\n",
       "      <td>1</td>\n",
       "      <td>0</td>\n",
       "    </tr>\n",
       "    <tr>\n",
       "      <th>6</th>\n",
       "      <td>18</td>\n",
       "      <td>0</td>\n",
       "      <td>1</td>\n",
       "    </tr>\n",
       "  </tbody>\n",
       "</table>\n",
       "</div>"
      ],
      "text/plain": [
       "    A  B  y\n",
       "0  18  0  0\n",
       "1  12  1  1\n",
       "2  17  1  0\n",
       "5  18  1  0\n",
       "6  18  0  1"
      ]
     },
     "execution_count": 34,
     "metadata": {},
     "output_type": "execute_result"
    }
   ],
   "source": [
    "print(filho_direita_A.shape)\n",
    "filho_direita_A.head()"
   ]
  },
  {
   "cell_type": "markdown",
   "metadata": {},
   "source": [
    "- Calculamos a entropia de cada conjunto filho em função da var. `A`:"
   ]
  },
  {
   "cell_type": "code",
   "execution_count": 38,
   "metadata": {},
   "outputs": [],
   "source": [
    "# calcular proporções para cada conjunto filho:\n",
    "p_esquerda_A0 = filho_esquerda_A['y'].value_counts()[0]/filho_esquerda_A.shape[0]\n",
    "p_esquerda_A1 = filho_esquerda_A['y'].value_counts()[1]/filho_esquerda_A.shape[0]\n",
    "\n",
    "p_direita_A0 = filho_direita_A['y'].value_counts()[0]/filho_direita_A.shape[0]\n",
    "p_direita_A1 = filho_direita_A['y'].value_counts()[1]/filho_direita_A.shape[0]"
   ]
  },
  {
   "cell_type": "code",
   "execution_count": 39,
   "metadata": {},
   "outputs": [],
   "source": [
    "# calcular entropia para cada conjunto filho:\n",
    "entropia_esquerda_A =  -(p_esquerda_A0*np.log2(p_esquerda_A0) + \n",
    "                        p_esquerda_A1*np.log2(p_esquerda_A1))\n",
    "\n",
    "entropia_direita_A = -(p_direita_A0*np.log2(p_direita_A0)+\n",
    "                      p_direita_A1*np.log2(p_direita_A1))"
   ]
  },
  {
   "cell_type": "code",
   "execution_count": 40,
   "metadata": {},
   "outputs": [
    {
     "data": {
      "text/plain": [
       "(0.9895875212220556, 0.9043814577244937)"
      ]
     },
     "execution_count": 40,
     "metadata": {},
     "output_type": "execute_result"
    }
   ],
   "source": [
    "entropia_esquerda_A, entropia_direita_A"
   ]
  },
  {
   "cell_type": "markdown",
   "metadata": {},
   "source": [
    "- E, por fim, o ganho de informação (IG), de acordo com a seguinte equação:\n",
    "\n",
    "$$entropia(pai,filho) = entropia(pai) - \\\\\n",
    "[p(filho-esquerda)*entropia(filho-esquerda) + p(filho-direita)*entropia(filho-direita)]$$\n",
    "\n",
    "Abaixo, nota-se que o ganho de informação da variável `A` foi baixo, de apenas 0.04, ou seja, a entropia reduziu pouco - conjuntos muito impuros."
   ]
  },
  {
   "cell_type": "code",
   "execution_count": 43,
   "metadata": {},
   "outputs": [
    {
     "data": {
      "text/plain": [
       "0.042603031748780995"
      ]
     },
     "execution_count": 43,
     "metadata": {},
     "output_type": "execute_result"
    }
   ],
   "source": [
    "IG_A = entropia_pai - ((filho_esquerda_A.shape[0]/df.shape[0])*entropia_esquerda_A + \n",
    "                      (filho_direita_A.shape[0]/df.shape[0])*entropia_direita_A)\n",
    "\n",
    "IG_A"
   ]
  },
  {
   "cell_type": "markdown",
   "metadata": {},
   "source": [
    "## Ganho de informação para variável `B`"
   ]
  },
  {
   "cell_type": "markdown",
   "metadata": {},
   "source": [
    "- A seguir, dividimos o dataset em função da variável `B` de acordo com os valores da variável (0, 1, 2), resultando em conjuntos com 22, 16, e 12 instâncias para 0, 1, e 2, respectivamente:"
   ]
  },
  {
   "cell_type": "code",
   "execution_count": 44,
   "metadata": {},
   "outputs": [],
   "source": [
    "# criar conjuntos filho\n",
    "filho_1_B = df[df['B'] == 0]\n",
    "filho_2_B = df[df['B'] == 1]\n",
    "filho_3_B = df[df['B'] == 2]"
   ]
  },
  {
   "cell_type": "code",
   "execution_count": 45,
   "metadata": {},
   "outputs": [
    {
     "name": "stdout",
     "output_type": "stream",
     "text": [
      "(22, 3)\n"
     ]
    },
    {
     "data": {
      "text/html": [
       "<div>\n",
       "<style scoped>\n",
       "    .dataframe tbody tr th:only-of-type {\n",
       "        vertical-align: middle;\n",
       "    }\n",
       "\n",
       "    .dataframe tbody tr th {\n",
       "        vertical-align: top;\n",
       "    }\n",
       "\n",
       "    .dataframe thead th {\n",
       "        text-align: right;\n",
       "    }\n",
       "</style>\n",
       "<table border=\"1\" class=\"dataframe\">\n",
       "  <thead>\n",
       "    <tr style=\"text-align: right;\">\n",
       "      <th></th>\n",
       "      <th>A</th>\n",
       "      <th>B</th>\n",
       "      <th>y</th>\n",
       "    </tr>\n",
       "  </thead>\n",
       "  <tbody>\n",
       "    <tr>\n",
       "      <th>0</th>\n",
       "      <td>18</td>\n",
       "      <td>0</td>\n",
       "      <td>0</td>\n",
       "    </tr>\n",
       "    <tr>\n",
       "      <th>3</th>\n",
       "      <td>5</td>\n",
       "      <td>0</td>\n",
       "      <td>0</td>\n",
       "    </tr>\n",
       "    <tr>\n",
       "      <th>4</th>\n",
       "      <td>3</td>\n",
       "      <td>0</td>\n",
       "      <td>1</td>\n",
       "    </tr>\n",
       "    <tr>\n",
       "      <th>6</th>\n",
       "      <td>18</td>\n",
       "      <td>0</td>\n",
       "      <td>1</td>\n",
       "    </tr>\n",
       "    <tr>\n",
       "      <th>9</th>\n",
       "      <td>0</td>\n",
       "      <td>0</td>\n",
       "      <td>0</td>\n",
       "    </tr>\n",
       "  </tbody>\n",
       "</table>\n",
       "</div>"
      ],
      "text/plain": [
       "    A  B  y\n",
       "0  18  0  0\n",
       "3   5  0  0\n",
       "4   3  0  1\n",
       "6  18  0  1\n",
       "9   0  0  0"
      ]
     },
     "execution_count": 45,
     "metadata": {},
     "output_type": "execute_result"
    }
   ],
   "source": [
    "print(filho_1_B.shape)\n",
    "filho_1_B.head()"
   ]
  },
  {
   "cell_type": "code",
   "execution_count": 46,
   "metadata": {},
   "outputs": [
    {
     "name": "stdout",
     "output_type": "stream",
     "text": [
      "(16, 3)\n"
     ]
    },
    {
     "data": {
      "text/html": [
       "<div>\n",
       "<style scoped>\n",
       "    .dataframe tbody tr th:only-of-type {\n",
       "        vertical-align: middle;\n",
       "    }\n",
       "\n",
       "    .dataframe tbody tr th {\n",
       "        vertical-align: top;\n",
       "    }\n",
       "\n",
       "    .dataframe thead th {\n",
       "        text-align: right;\n",
       "    }\n",
       "</style>\n",
       "<table border=\"1\" class=\"dataframe\">\n",
       "  <thead>\n",
       "    <tr style=\"text-align: right;\">\n",
       "      <th></th>\n",
       "      <th>A</th>\n",
       "      <th>B</th>\n",
       "      <th>y</th>\n",
       "    </tr>\n",
       "  </thead>\n",
       "  <tbody>\n",
       "    <tr>\n",
       "      <th>1</th>\n",
       "      <td>12</td>\n",
       "      <td>1</td>\n",
       "      <td>1</td>\n",
       "    </tr>\n",
       "    <tr>\n",
       "      <th>2</th>\n",
       "      <td>17</td>\n",
       "      <td>1</td>\n",
       "      <td>0</td>\n",
       "    </tr>\n",
       "    <tr>\n",
       "      <th>5</th>\n",
       "      <td>18</td>\n",
       "      <td>1</td>\n",
       "      <td>0</td>\n",
       "    </tr>\n",
       "    <tr>\n",
       "      <th>8</th>\n",
       "      <td>16</td>\n",
       "      <td>1</td>\n",
       "      <td>0</td>\n",
       "    </tr>\n",
       "    <tr>\n",
       "      <th>11</th>\n",
       "      <td>7</td>\n",
       "      <td>1</td>\n",
       "      <td>0</td>\n",
       "    </tr>\n",
       "  </tbody>\n",
       "</table>\n",
       "</div>"
      ],
      "text/plain": [
       "     A  B  y\n",
       "1   12  1  1\n",
       "2   17  1  0\n",
       "5   18  1  0\n",
       "8   16  1  0\n",
       "11   7  1  0"
      ]
     },
     "execution_count": 46,
     "metadata": {},
     "output_type": "execute_result"
    }
   ],
   "source": [
    "print(filho_2_B.shape)\n",
    "filho_2_B.head()"
   ]
  },
  {
   "cell_type": "code",
   "execution_count": 47,
   "metadata": {},
   "outputs": [
    {
     "name": "stdout",
     "output_type": "stream",
     "text": [
      "(12, 3)\n"
     ]
    },
    {
     "data": {
      "text/html": [
       "<div>\n",
       "<style scoped>\n",
       "    .dataframe tbody tr th:only-of-type {\n",
       "        vertical-align: middle;\n",
       "    }\n",
       "\n",
       "    .dataframe tbody tr th {\n",
       "        vertical-align: top;\n",
       "    }\n",
       "\n",
       "    .dataframe thead th {\n",
       "        text-align: right;\n",
       "    }\n",
       "</style>\n",
       "<table border=\"1\" class=\"dataframe\">\n",
       "  <thead>\n",
       "    <tr style=\"text-align: right;\">\n",
       "      <th></th>\n",
       "      <th>A</th>\n",
       "      <th>B</th>\n",
       "      <th>y</th>\n",
       "    </tr>\n",
       "  </thead>\n",
       "  <tbody>\n",
       "    <tr>\n",
       "      <th>7</th>\n",
       "      <td>7</td>\n",
       "      <td>2</td>\n",
       "      <td>0</td>\n",
       "    </tr>\n",
       "    <tr>\n",
       "      <th>16</th>\n",
       "      <td>14</td>\n",
       "      <td>2</td>\n",
       "      <td>1</td>\n",
       "    </tr>\n",
       "    <tr>\n",
       "      <th>18</th>\n",
       "      <td>18</td>\n",
       "      <td>2</td>\n",
       "      <td>0</td>\n",
       "    </tr>\n",
       "    <tr>\n",
       "      <th>23</th>\n",
       "      <td>4</td>\n",
       "      <td>2</td>\n",
       "      <td>0</td>\n",
       "    </tr>\n",
       "    <tr>\n",
       "      <th>24</th>\n",
       "      <td>4</td>\n",
       "      <td>2</td>\n",
       "      <td>1</td>\n",
       "    </tr>\n",
       "  </tbody>\n",
       "</table>\n",
       "</div>"
      ],
      "text/plain": [
       "     A  B  y\n",
       "7    7  2  0\n",
       "16  14  2  1\n",
       "18  18  2  0\n",
       "23   4  2  0\n",
       "24   4  2  1"
      ]
     },
     "execution_count": 47,
     "metadata": {},
     "output_type": "execute_result"
    }
   ],
   "source": [
    "print(filho_3_B.shape)\n",
    "filho_3_B.head()"
   ]
  },
  {
   "cell_type": "markdown",
   "metadata": {},
   "source": [
    "- Calcular a entropia de cada *conjunto filho* de acordo com os respectivos valores:"
   ]
  },
  {
   "cell_type": "code",
   "execution_count": 48,
   "metadata": {},
   "outputs": [],
   "source": [
    "# calcular proporções para cada conjunto filho:\n",
    "p_1_B0 = filho_1_B['y'].value_counts()[0]/filho_1_B.shape[0]\n",
    "p_1_B1 = filho_1_B['y'].value_counts()[1]/filho_1_B.shape[0]\n",
    "\n",
    "p_2_B0 = filho_2_B['y'].value_counts()[0]/filho_2_B.shape[0]\n",
    "p_2_B1 = filho_2_B['y'].value_counts()[1]/filho_2_B.shape[0]\n",
    "\n",
    "p_3_B0 = filho_3_B['y'].value_counts()[0]/filho_3_B.shape[0]\n",
    "p_3_B1 = filho_3_B['y'].value_counts()[1]/filho_3_B.shape[0]"
   ]
  },
  {
   "cell_type": "code",
   "execution_count": 49,
   "metadata": {},
   "outputs": [],
   "source": [
    "# calcular entropia para cada conjunto filho:\n",
    "entropia_B1 = -(p_1_B0*np.log2(p_1_B0) + p_1_B1*np.log2(p_1_B1))\n",
    "\n",
    "entropia_B2 = -(p_2_B0*np.log2(p_2_B0) + p_2_B1*np.log2(p_2_B1))\n",
    "\n",
    "entropia_B3 = -(p_3_B0*np.log2(p_3_B0) + p_3_B1*np.log2(p_3_B1))"
   ]
  },
  {
   "cell_type": "code",
   "execution_count": 50,
   "metadata": {},
   "outputs": [
    {
     "data": {
      "text/plain": [
       "(0.9760206482366149, 0.954434002924965, 0.8112781244591328)"
      ]
     },
     "execution_count": 50,
     "metadata": {},
     "output_type": "execute_result"
    }
   ],
   "source": [
    "entropia_B1, entropia_B2, entropia_B3"
   ]
  },
  {
   "cell_type": "markdown",
   "metadata": {},
   "source": [
    "- Calcular o *IG* da variável `B`, como apresentado anteriormente na variável `A`.\n",
    "\n",
    "Nota-se que o ganho de informação da variável `B` foi maior que o da variável `A`, mas, ainda assim, baixo. Isso nos diz que ambas as variáveis possuem ganho de informação, ainda que baixo e que, nesse contexto, a variável `A` é menos informativa que a variável `B`."
   ]
  },
  {
   "cell_type": "code",
   "execution_count": 51,
   "metadata": {},
   "outputs": [
    {
     "data": {
      "text/plain": [
       "0.06001280519176433"
      ]
     },
     "execution_count": 51,
     "metadata": {},
     "output_type": "execute_result"
    }
   ],
   "source": [
    "IG_B = entropia_pai - ((filho_1_B.shape[0]/df.shape[0])*entropia_B1+\n",
    "                      (filho_2_B.shape[0]/df.shape[0])*entropia_B2 + \n",
    "                      (filho_3_B.shape[0]/df.shape[0])*entropia_B3)\n",
    "\n",
    "IG_B"
   ]
  },
  {
   "cell_type": "markdown",
   "metadata": {},
   "source": [
    "## Considerações Finais"
   ]
  },
  {
   "cell_type": "markdown",
   "metadata": {},
   "source": [
    "Nota-se que a aplicação de *entropia* e *ganho de informação* é útil para seleção de atributos em aprendizado de máquina. De fato, esse conceito é utilizado em algoritmos que utilizam **árvores de decisão**. \n",
    "\n",
    "É importante salientar também que aqui foi apresentado um exemplo onde se utilizou de apenas uma variável para análise de ganho de informação, mas que em casos reais, os algoritmos se utilizam de múltiplos atributos (multivariado) para a segmentação supervisionada, sendo que cada conjunto, no contexto de árvores de decisão, é chamado de nó (*node*), e o conjunto pai é chamado de nó raiz (*root node*), sendo aquela variável com maior ganho de informação, os conjuntos intermediários - filhos são chamados de nós interiores (*interior nodes*) ou nós de decisão (*decision nodes*), finalizando em uma folha , ou nó terminal (*leaf node*), como exposto abaixo. \n",
    "\n",
    "![img](https://miro.medium.com/max/688/1*bcLAJfWN2GpVQNTVOCrrvw.png)\n",
    "\n",
    "É importante denotar o primeiro conjunto filho não necessariamente será a segunda variável com maior ganho de informação, pois com exceção do nó raiz, os atributos não mais são avaliados considerando todo o dataset de instâncias, as sim o conjunto de segmentação. Ademais, deve-se evitar um número muito grande de subconjuntos, pois pode resultar em *overfitting*, ou incapacidade do modelo de generalizar novos dados.\n",
    "\n",
    "Ademais, aqui foi proposto um caso de classificação, onde a variável resposta é binária. Porém, o mesmo conceito pode ser utilizado em **problemas de regressão**, onde a variável resposta é quantitativa, mantendo-se a ideia fundamental onde, nesse escopo, a medida natural de impureza é a **variância**. \n",
    "\n",
    "Assim, se o todo o conjunto possui o mesmo valor para a variável resposta, então o conjunto é puro (homogêneo) e a variância é zero. No oposto, caso o conjunto possui valores muito diferentes entre si, o conjunto possuirá alta variância. A noção de ganho de informação nesse caso será a redução da variância entre os conjuntos *pai* e *filho*."
   ]
  }
 ],
 "metadata": {
  "kernelspec": {
   "display_name": "Python 3",
   "language": "python",
   "name": "python3"
  },
  "language_info": {
   "codemirror_mode": {
    "name": "ipython",
    "version": 3
   },
   "file_extension": ".py",
   "mimetype": "text/x-python",
   "name": "python",
   "nbconvert_exporter": "python",
   "pygments_lexer": "ipython3",
   "version": "3.8.3"
  }
 },
 "nbformat": 4,
 "nbformat_minor": 4
}
