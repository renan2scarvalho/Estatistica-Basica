{
  "nbformat": 4,
  "nbformat_minor": 0,
  "metadata": {
    "kernelspec": {
      "display_name": "Python 3",
      "language": "python",
      "name": "python3"
    },
    "language_info": {
      "codemirror_mode": {
        "name": "ipython",
        "version": 3
      },
      "file_extension": ".py",
      "mimetype": "text/x-python",
      "name": "python",
      "nbconvert_exporter": "python",
      "pygments_lexer": "ipython3",
      "version": "3.8.3"
    },
    "colab": {
      "name": "Gradiente Descendente.ipynb",
      "provenance": [],
      "collapsed_sections": []
    }
  },
  "cells": [
    {
      "cell_type": "markdown",
      "metadata": {
        "id": "1iZolyo-U0zz"
      },
      "source": [
        "# Em construção!! "
      ]
    },
    {
      "cell_type": "markdown",
      "metadata": {
        "id": "6au0a-HYCW7w"
      },
      "source": [
        "# Gradiente Descendente\n",
        "---\n",
        "\n",
        "O gradiente descendente é um algoritmo de otimização utilizado para minimizar uma função movendo-se iterativamente na direção do gradiente negativo, sendo, por consequência, utilizando em maioria quando os parâmetros não podem ser calculados analiticamente.\n",
        "\n",
        "Considere a seguinte função de custo:\n",
        "\n",
        "$$ L(a,b) = \\frac{1}{N} \\sum_{i=1}^{n} (y_{i} - (ax_{i}+b))^2 $$\n",
        "\n",
        "A função de custo pode ser calculada como:\n",
        "\n",
        "$$ \n",
        "\\nabla(a,b) = \n",
        "  \\left[\n",
        "    \\begin{array}{cc}\n",
        "     \\frac{dL}{da}\\\\\n",
        "     \\frac{dL}{db}\n",
        "    \\end{array}\n",
        "  \\right]\n",
        "=\n",
        "  \\left[\n",
        "    \\begin{array}{cc}\n",
        "     \\frac{1}{N} \\sum -2x_i(y_i - (ax_i + b)) \\\\ \n",
        "     \\frac{1}{N} \\sum -2(y_i - (ax_i + b))\n",
        "    \\end{array}\n",
        "  \\right]\n",
        "$$\n",
        "\n",
        "No espaço $\\Re^n$, o vetor gradiente aponta na direção de aumento/redução da função $L(x)$, sendo essa informação de grande utilidade para explorar o espaço em busca da solução do problema de otimização.\n",
        "\n",
        "No caso acima, itera-se pelos dados utiliazndo valores atualizados de **a** e **b**, calculando as derivadas parciais. O novo gradiente nos direciona ao próximo ponto para atualizar os parâmetros, sendo que o tamanho do passo é dado pela taxa de aprendizagem (*learning rate*).\n",
        "\n",
        "Referências: [1](https://ml-cheatsheet.readthedocs.io/en/latest/gradient_descent.html), [2](https://machinelearningmastery.com/gradient-descent-for-machine-learning/), [3](http://cursos.leg.ufpr.br/ML4all/apoio/Gradiente.html), [4](https://www.edusp.com.br/livros/programacao-matematica-para-otimizacao-de-processos/)\n",
        "\n"
      ]
    },
    {
      "cell_type": "code",
      "metadata": {
        "id": "eqmobGLZS5xe"
      },
      "source": [
        "import numpy as np\n",
        "import matplotlib.pyplot as plt"
      ],
      "execution_count": null,
      "outputs": []
    },
    {
      "cell_type": "markdown",
      "metadata": {
        "id": "Lb397hwwGxRp"
      },
      "source": [
        "Considere a seguinte simples função quadrática:\n",
        "\n",
        "$$ L(x) = x^2 $$\n",
        "\n",
        "Nota-se pela figura abaixo que temos um ponto de mínimo em (0,0):"
      ]
    },
    {
      "cell_type": "code",
      "metadata": {
        "id": "KxEuHYrXS5xg",
        "colab": {
          "base_uri": "https://localhost:8080/",
          "height": 279
        },
        "outputId": "a007c82b-3fe9-4199-ede7-19c0d5ee5663"
      },
      "source": [
        "x = np.linspace(-3,3,100)\n",
        "y = x**2\n",
        "\n",
        "plt.plot(x,y)\n",
        "plt.xlabel(\"x\")\n",
        "plt.ylabel(\"custo\")\n",
        "plt.show()"
      ],
      "execution_count": null,
      "outputs": [
        {
          "output_type": "display_data",
          "data": {
            "image/png": "[encoded data removed]",
            "text/plain": [
              "<Figure size 432x288 with 1 Axes>"
            ]
          },
          "metadata": {
            "tags": [],
            "needs_background": "light"
          }
        }
      ]
    },
    {
      "cell_type": "markdown",
      "metadata": {
        "id": "JjBMD0CtHj2A"
      },
      "source": [
        "Temos que sua derivada primeira é:\n",
        "\n",
        "$$ \\nabla{L} = 2x $$\n",
        "\n",
        "No algoritmo de atualização abaixo, iniciamos no ponto máximo da função, e andamos subtraindo o gradiente até que ocorra convergência i.e. até que a diferença entre o ponto atual e o próximo seja inferior à tolerância:\n",
        "\n"
      ]
    },
    {
      "cell_type": "code",
      "metadata": {
        "id": "6E0pToJmS5xh",
        "colab": {
          "base_uri": "https://localhost:8080/",
          "height": 350
        },
        "outputId": "90678c22-6733-4162-c8f7-4f641ff99133"
      },
      "source": [
        "l_rate = float(input(\"Taxa de aprendizado: \"))\n",
        "tolerance = float(input(\"Tolerância: \"))\n",
        "\n",
        "x0 = np.max(x)\n",
        "x_gd = [x0]\n",
        "c = 0\n",
        "\n",
        "while True:\n",
        "    \n",
        "    aux = x0\n",
        "    grad = l_rate*(2*x0)\n",
        "    x0 -= grad\n",
        "    \n",
        "    x_gd.append(x0)\n",
        "    \n",
        "    c += 1\n",
        "    \n",
        "    if abs(aux - x0) <= tolerance:\n",
        "        break\n",
        "    \n",
        "y_gd = [el**2 for el in x_gd]\n",
        "\n",
        "print(f\"Mínimo pelo gradiente em {y_gd[-1]}\")\n",
        "\n",
        "plt.plot(x, y)\n",
        "plt.plot(x_gd, y_gd, \"-o\", color=\"r\")\n",
        "plt.xlabel(\"x\")\n",
        "plt.ylabel(\"custo\")\n",
        "plt.title(f\"número de iterações para convergir: {c}\")\n",
        "plt.show()"
      ],
      "execution_count": null,
      "outputs": [
        {
          "output_type": "stream",
          "text": [
            "taxa de aprendizado: .1\n",
            "tolerância: .05\n",
            "Mínimo pelo gradiente em 0.027200830941329163\n"
          ],
          "name": "stdout"
        },
        {
          "output_type": "display_data",
          "data": {
            "image/png": "[encoded data removed]",
            "text/plain": [
              "<Figure size 432x288 with 1 Axes>"
            ]
          },
          "metadata": {
            "tags": [],
            "needs_background": "light"
          }
        }
      ]
    },
    {
      "cell_type": "markdown",
      "metadata": {
        "id": "VNlSnfvvUiMO"
      },
      "source": [
        "# Matrizes Jacobiana e Hessiana"
      ]
    },
    {
      "cell_type": "markdown",
      "metadata": {
        "id": "feaoIYzNMYp1"
      },
      "source": [
        "Em problemas de otimização, porém, muitas vezes encontram-se restrições diversas que devem ser satisfeitas na busca do ponto ótimo da função objetivo.\n",
        "\n",
        "Nesse contexto, faz-se importante comentar sobre a matriz jacobiana, ou jacobiano, que nada mais é que a matrix de derivadas de primeira ordem das $m$ funções de restrição:\n",
        "\n",
        "$$ J(f(x)) = \n",
        "  \\left[ \n",
        "    \\begin{array}{cc} \n",
        "      \\frac{\\partial{f_1}}{\\partial{x_1}} & \\frac{\\partial{f_1}}{\\partial{x_2}} & \\cdots & \\frac{\\partial{f_1}}{\\partial{x_n}} \\\\\n",
        "      \\frac{\\partial{f_2}}{\\partial{x_1}} & \\frac{\\partial{f_2}}{\\partial{x_2}} & \\cdots & \\frac{\\partial{f_2}}{\\partial{x_n}} \\\\\n",
        "      \\vdots & \\vdots & \\ddots & \\vdots \\\\\n",
        "      \\frac{\\partial{f_m}}{\\partial{x_1}} & \\frac{\\partial{f_m}}{\\partial{x_2}} & \\cdots & \\frac{\\partial{f_m}}{\\partial{x_n}}\n",
        "    \\end{array}\n",
        "  \\right]\n",
        "$$\n",
        "\n",
        "Além das derivadas parciais de primeira ordem, visando calcular a concavidade de uma função,é interessante também apresentar também o conceito de matriz hessiana, a qual é uma matriz quadrada de ordem $n$ composta pelas derivadas parciais de segunda ordem, como demonstrado a seguir:\n",
        "\n",
        "$$ H(f(x)) = \n",
        "  \\left[ \n",
        "    \\begin{array}{cc} \n",
        "      \\frac{\\partial^2{f_1}}{\\partial{x_1^2}} & \\frac{\\partial^2{f_1}}{\\partial{x_1}\\partial{x_2}} & \\cdots & \\frac{\\partial^2{f_1}}{\\partial{x_1}\\partial{x_n}} \\\\\n",
        "      \\frac{\\partial^2{f_2}}{\\partial{x_1}\\partial{x_2}} & \\frac{\\partial^2{f_2}}{\\partial{x_2^2}} & \\cdots & \\frac{\\partial^2{f_2}}{\\partial{x_2}\\partial{x_n}} \\\\\n",
        "      \\vdots & \\vdots & \\ddots & \\vdots \\\\\n",
        "      \\frac{\\partial^2{f_m}}{\\partial{x_1}\\partial{x_n}} & \\frac{\\partial^2{f_m}}{\\partial{x_2}\\partial{x_n}} & \\cdots & \\frac{\\partial^2{f_m}}{\\partial{x_n^2}}\n",
        "    \\end{array}\n",
        "  \\right]\n",
        "$$\n",
        "\n",
        "Analisando-se a concavidade de uma função entre um intervalo $x_a \\le x \\le x_b $, temos que:\n",
        "\n",
        "- se $\\frac{\\partial^2{f}}{\\partial{x^2}} > 0$ a função é estritamente convexa no intervalo; \n",
        "- se $\\frac{\\partial^2{f}}{\\partial{x^2}} \\ge 0$ a função é convexa no intervalo;\n",
        "- se $\\frac{\\partial^2{f}}{\\partial{x^2}} < 0$ a função é estritamente côncava no intervalo;\n",
        "- se $\\frac{\\partial^2{f}}{\\partial{x^2}} > 0$ a função é côncava no intervalo;\n",
        "\n",
        "Tal concavidade é importante, como dito anteriormente, na busca de um ponto ótimo no espaço para solução do problema de otimização.\n",
        "\n",
        "Referência: [4](https://www.edusp.com.br/livros/programacao-matematica-para-otimizacao-de-processos/)"
      ]
    }
  ]
}