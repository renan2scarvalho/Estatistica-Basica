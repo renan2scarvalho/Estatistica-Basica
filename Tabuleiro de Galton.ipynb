{
 "cells": [
  {
   "cell_type": "markdown",
   "metadata": {},
   "source": [
    "# O Tabuleiro de Galton\n",
    "\n",
    "O tabuleiro de Galton, também conhecido como quincunx, é um experimento estatístico que consiste em um tabuleiro vertical como pregos igualmente espaçados na metade superior, onde os pregos são dispostos de maneira que não fiquem lineares verticalmente, como exposto na figura abaixo. A parte inferior é composta por estacas igualmente espaçadas, onde bolas são se encaixam após serem soltas da parte superior do tabuleiro.\n",
    "\n",
    "![img](https://mathworld.wolfram.com/images/eps-gif/GaltonBoard_1000.gif)\n",
    "\n",
    "Cada vez que as bolas batem em um prego, elas podem ser direcionadas para a direita ou para a esquerda com uma probabilidade $p$ (e $q=1-p$). Para os pregos simetricamente espaçados, as bolas iriam para a direita ou esquerda com a mesma probabilidae i.e. $p=q=1/2$.\\\n",
    "Se as linhas forem numeradas de 0 a N-1, o caminho de cada bola caindo é um **processo de Bernoulli** consistindo de N passos.\\\n",
    "Cada bola passa pela última linha de pregos chegando na n-ésima estaca para a esquerda (onde $0\\le n \\le N-1$) se tiver caído para a direita exatamente $n$ vezes, a qual ocorre com probabilidade:\n",
    "\n",
    "![img](https://mathworld.wolfram.com/images/equations/GaltonBoard/NumberedEquation1.gif)\n",
    "\n",
    "O processo dá origem a uma distribuição binomial nas estacas inferiores.\\\n",
    "Assim, caso o número de bolas seja suficientemente grande, e $p=q=1/2$, então de acordo com a [*Lei Fraca dos Grandes Números*](http://www.portalaction.com.br/probabilidades/721-lei-fraca-dos-grandes-numeros), a distribuição das bolas se aproximará de uma distribuição normal.\n",
    "\n",
    "Referência: Barile, Margherita and Weisstein, Eric W. \"Galton Board.\" From MathWorld--A Wolfram Web Resource. https://mathworld.wolfram.com/GaltonBoard.html"
   ]
  },
  {
   "cell_type": "code",
   "execution_count": 68,
   "metadata": {},
   "outputs": [],
   "source": [
    "%matplotlib inline\n",
    "\n",
    "import numpy as np\n",
    "import matplotlib.pyplot as plt\n",
    "from IPython import display\n",
    "import time"
   ]
  },
  {
   "cell_type": "code",
   "execution_count": 95,
   "metadata": {},
   "outputs": [],
   "source": [
    "# número de bolas\n",
    "n_bolas = 500\n",
    "\n",
    "# número de linhas\n",
    "n_linhas = 10"
   ]
  },
  {
   "cell_type": "code",
   "execution_count": 96,
   "metadata": {},
   "outputs": [
    {
     "data": {
      "image/png": "[encoded data removed]",
      "text/plain": [
       "<Figure size 720x432 with 1 Axes>"
      ]
     },
     "metadata": {
      "needs_background": "light"
     },
     "output_type": "display_data"
    }
   ],
   "source": [
    "# cria arranjo de espaços para as bolas\n",
    "arranjo = [0 for i in range(n_linhas*2+1)] \n",
    "plt.figure(figsize=(10,6))\n",
    "\n",
    "# iteração para cada bola\n",
    "for bola in range(n_bolas):\n",
    "\n",
    "    total = 0\n",
    "\n",
    "    for linha in range(1, n_linhas+1):\n",
    "        dir_esq = np.random.uniform()\n",
    "        if(dir_esq >= 0.5):    # bola para a direita\n",
    "            total += 1\n",
    "        else:                  # bola para a esquerda\n",
    "            total -= 1\n",
    "    arranjo[total + n_linhas] += 1 # bolas estão nos índices pares\n",
    "    \n",
    "    # plotar gráfico dinâmico\n",
    "    plt.bar(list(range(n_linhas+1)), arranjo[0::2], color='royalblue')\n",
    "    plt.xticks(list(range(n_linhas+1)))\n",
    "    plt.ylabel('Número de bolas', size=12)\n",
    "    plt.xlabel('Espaços para as bolas', size=12)\n",
    "    plt.title('Tabuleiro de Galton', size=14)\n",
    "    display.display(plt.gcf())\n",
    "    display.clear_output(wait=True)\n",
    "    time.sleep(0.1)\n",
    "    "
   ]
  }
 ],
 "metadata": {
  "kernelspec": {
   "display_name": "Python 3",
   "language": "python",
   "name": "python3"
  },
  "language_info": {
   "codemirror_mode": {
    "name": "ipython",
    "version": 3
   },
   "file_extension": ".py",
   "mimetype": "text/x-python",
   "name": "python",
   "nbconvert_exporter": "python",
   "pygments_lexer": "ipython3",
   "version": "3.8.3"
  }
 },
 "nbformat": 4,
 "nbformat_minor": 4
}
