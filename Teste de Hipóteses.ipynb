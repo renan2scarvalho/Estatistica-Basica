{
 "cells": [
  {
   "cell_type": "markdown",
   "metadata": {},
   "source": [
    "# Testes de Hipóteses\n",
    "\n",
    "Uma hipótese é uma declaração sobre um parâmetro(s) de uma população. Assim, o teste de hipóteses é uma metodologia estatística que nos ajuda a verificar se dados amostrais coletados trazem evidência que apoiem ou não tal hipótese formulada, sendo, portanto, um método de inferência estatística.\\\n",
    "Nesse contexto, como comentado, as hipóteses são formuladas consirando parâmetros, como por exemplo a média ($\\mu$), variância ($\\sigma^{2}$), ou proporção ($p$) [[1]](https://www.inf.ufsc.br/~andre.zibetti/probabilidade/teste-de-hipoteses.html).\n",
    "\n",
    "A linha de elaboração de um teste de hipótese é a seguinte [[2]](https://www.youtube.com/watch?v=VPmDaFbOtsM):\n",
    "\n",
    "1 - Elaborar a **hipótese nula ($H_0$)** e a **hipótese alternativa ($H_1$ ou $H_a$)**. É importante lembrar que a **hipótese nula** sempre apresenta uma **afirmação de igualdade** ($\\le, =, \\ge$), enquanto a **hipótese alternativa** apresenta os demais símbolos ($<, \\neq, >$).\n",
    "\n",
    "2 - Calcular o **valor observado** ($z_{obs}, t_{obs}, ...$) utilizando a fórmula corresponde ao caso que se está analisando.\n",
    "\n",
    "3 - Calcular a **região crítica (RC)** de acordo com a **hipótese alternativa** e $\\alpha$. Importante notar as variações de RC em função do sinal da hipótese alternativa, os quais caracterizam testes unilaterias ($< ou >$) ouo bilaterais ($\\neq$):\n",
    "\n",
    "![img](https://emgotas.files.wordpress.com/2016/11/testes-de-hipc3b3testes-figura-1.jpg?w=653)\n",
    "\n",
    "- nível de significância: menor valor no qual é possível **rejeitar a hipótese nula**, i.e. probabilidade de observar os dados se a hipótese nula for verdadeira (lembrando que a probabilidade a seguir não é condicional, pois a hipótese é acerca de um parâmetro da população, e não uma variável aleatória): $\\alpha$ = P(dados|$H_0$ é verdadeira)\n",
    "\n",
    "4 - Obter o **valor crítico** do test ($z_c, t_c, ...$) de acordo com $\\alpha$ e com **RC** utilizando a tabela de distribuição correspondente (e.g. Normal, Student-t).\n",
    "\n",
    "5 - Comparar valor observado, região crítica e valor crítico:\n",
    "- se valor observado $\\in$ RC $\\to$ rejeitar $H_0$ e aceitar $H_1$\n",
    "- se valor observado $\\notin$ RC $\\to$ aceitar $H_0$ e rejeitar $H_1$\n",
    "\n",
    "6 - Interpretar os resultados.\n",
    "\n",
    "Aqui é importante denotar os tipos de erro existentes no teste\n",
    "\n",
    "- Erro Tipo I: rejeitar $H_0$ quando é verdadeira\n",
    "- Erro Tipo II: não rejeitar $H_0$ quando é falsa\n",
    "- Potência ou Poder do Teste: probabilidade de rejeitar $H_0$ quando $H_1$ é verdadeira\n",
    "\n",
    "Tratando como probabilidades, temos que:\n",
    "\n",
    "$\\alpha$ = P(erro tipo I) = P(rejeitar $H_0$|$H_0$ verdadeira)\n",
    "\n",
    "$\\beta$ = P(erro tipo II) = P(não rejeitar $H_0$|$H_0$ falsa)\n",
    "\n",
    "$1-\\beta$ = P(rejeitar $H_0$|$H_1$ verdadeira)\n",
    "\n",
    "A figura a seguir demonstra os erros do teste graficamente:\n",
    "\n",
    "![img](https://www.oreilly.com/library/view/mastering-python-for/9781784390150/graphics/B03450_02_22.jpg)"
   ]
  },
  {
   "cell_type": "code",
   "execution_count": 1,
   "metadata": {},
   "outputs": [],
   "source": [
    "import scipy.stats as stats\n",
    "import numpy as np\n",
    "import math"
   ]
  },
  {
   "cell_type": "markdown",
   "metadata": {},
   "source": [
    "# Exercícios"
   ]
  },
  {
   "cell_type": "markdown",
   "metadata": {},
   "source": [
    "**Exercício 1**\n",
    "\n",
    "Uma estação de televisão afirma que 60% dos telespectadores estavam ligados no seu programa especial da última segunda-feira. Um canal concorrente contestando tal afirmação decide coletar uma amostra com 200 famı́lias e perguntar se o programa escolhido pela famı́lia era o programa do canal concorrente. Na amostra foram registradas 104 respostas afirmativas. O que você conclui ao nı́vel de 5% de significância?\n",
    "\n",
    "Hipóteses:\\\n",
    "$H_0 \\to p=0.6$\\\n",
    "$H_1 \\to p<0.6$ (teste unilateral à esquerda)\n",
    "\n",
    "Lembrando que:\n",
    "$P\\left( \\frac{\\hat{p}-p}{\\sqrt{\\frac{p*(1-p)}{n}}} < \\frac{p_{critico}-p}{\\sqrt{\\frac{p*(1-p)}{n}}} \\right) = \\alpha$"
   ]
  },
  {
   "cell_type": "code",
   "execution_count": 5,
   "metadata": {},
   "outputs": [
    {
     "name": "stdout",
     "output_type": "stream",
     "text": [
      "p_critico:  0.657  e p_hat:  0.52 \n",
      "\n",
      "Rejeitar H0 -> TV mentiu\n"
     ]
    }
   ],
   "source": [
    "n = 200 # 200 famílias\n",
    "p = 0.6 # afirmação da tv\n",
    "p_hat = 104/200 # proporção amostral\n",
    "alpha = 0.05 # nível de significânica\n",
    "\n",
    "z_alpha = stats.norm.ppf(1-alpha) # estatística\n",
    "p_critico = np.sqrt((p*(1-p))/n)*z_alpha + p # valor crítico\n",
    "\n",
    "print('p_critico: ', round(p_critico,4), ' e p_hat: ', round(p_hat,4),'\\n')\n",
    "if (p_hat < p_critico): # analisar valor observado e crítico em função da RC\n",
    "    print('Rejeitar H0 -> TV mentiu')\n",
    "elif (p_hat >= p_critico):\n",
    "    print('Aceitar H0 -> TV não mentiu')"
   ]
  },
  {
   "cell_type": "markdown",
   "metadata": {},
   "source": [
    "**Exercício 2**\n",
    "\n",
    "Numa indústria de autopeças, sabe-se que o nı́vel de dureza de um\n",
    "produto feito a base de cerâmica tem variabilidade $\\sigma^2$ = 0.49. Uma\n",
    "amostra de 16 peças foram testadas e o resultado é apresentado\n",
    "abaixo:\n",
    "\n",
    "$$[18.1, 19.0, 18.8, 18.5, 18.1, 18.8, 18.1, 18.0,18.5, 19.8, 17.8, 19.1, 18.0, 19.2, 19.8, 19.2]$$\n",
    "\n",
    "Com um nı́vel de significância de 10%, pede-se:\\\n",
    "a) pode-se afirmar que a média do nı́vel de dureza é superior a 18.4?\\\n",
    "b) testar a hipótese bicaudal de que a média é igual a 18.4."
   ]
  },
  {
   "cell_type": "markdown",
   "metadata": {},
   "source": [
    "(a) Hipótese:\\\n",
    "$H_0 \\rightarrow \\mu = 18.4$\\\n",
    "$H_1 \\rightarrow \\mu > 18.4$ (teste unilateral à direita)"
   ]
  },
  {
   "cell_type": "code",
   "execution_count": 7,
   "metadata": {},
   "outputs": [
    {
     "name": "stdout",
     "output_type": "stream",
     "text": [
      "x_critico:  18.56  - a_mean:  18.68 \n",
      "\n",
      "Rejeita H0 -> média é maior que 18.4\n"
     ]
    }
   ],
   "source": [
    "mu = 18.4 # população\n",
    "std = 0.49 # variância populacional conhecida\n",
    "x = [18.1,19.0,18.8,18.5,18.1,18.8,18.1,18.0,18.5,19.8,17.8,19.1,18.0,19.2,19.8,19.2] # amostras\n",
    "x_mean = np.mean(x) # média amostral\n",
    "x_std = np.std(x) # std amostral\n",
    "n = len(x) # tamanho da amostra\n",
    "alpha = 0.10 # nível de significância\n",
    "\n",
    "z_alpha = stats.norm.ppf(1 - alpha) # estatística\n",
    "x_critico = z_alpha*(std/np.sqrt(n)) + mu # valor crítico\n",
    "\n",
    "print('x_critico: ', round(x_critico,2), ' - a_mean: ', round(x_mean,2),'\\n')\n",
    "if (x_mean > x_critico): \n",
    "    print('Rejeita H0 -> média é maior que 18.4')\n",
    "elif (x_mean <= x_critico): \n",
    "    print('Aceita H0 -> média é igual a 18.4')"
   ]
  },
  {
   "cell_type": "markdown",
   "metadata": {},
   "source": [
    "(b) Hipóteses:\\\n",
    "$H_0 \\rightarrow \\mu = 18.4$\\\n",
    "$H_1 \\rightarrow \\mu \\neq 18.4$ (teste bilateral)"
   ]
  },
  {
   "cell_type": "code",
   "execution_count": 8,
   "metadata": {},
   "outputs": [
    {
     "name": "stdout",
     "output_type": "stream",
     "text": [
      "x1_critico:  18.2  - x2_critico:  18.6  - x_mean:  18.68 \n",
      "\n",
      "Rejeita H0 -> média é diferente de 18.4\n"
     ]
    }
   ],
   "source": [
    "z_alpha = stats.norm.ppf(1-(alpha*0.5)) # estatística\n",
    "x1_critico = -z_alpha*(std/np.sqrt(n)) + mu # valor crítico à esquerda\n",
    "x2_critico = z_alpha*(std/np.sqrt(n)) + mu #  valor crítico à direita\n",
    "\n",
    "print('x1_critico: ', round(x1_critico,2), ' - x2_critico: ', round(x2_critico,2),\n",
    "      ' - x_mean: ', round(x_mean,2),'\\n')\n",
    "if (x_mean < x1_critico) or (x_mean > x2_critico):\n",
    "    print('Rejeita H0 -> média é diferente de 18.4')\n",
    "else:\n",
    "    print('Aceita H0 -> média é igual a 18.4')"
   ]
  },
  {
   "cell_type": "markdown",
   "metadata": {},
   "source": [
    "**Exercício 3**\n",
    "\n",
    "Em fevereiro de 2016, o custo médio para um voo doméstico com passagens de ida e volta com desconto foi de R$ 290,00. Uma amostra aleatória dos preços de 15 passagens de ida e volta com desconto durante o mês de março forneceu os seguintes valores:\n",
    "\n",
    "$$[310, 260, 265, 255, 300, 310, 230, 250, 265, 280, 290, 240, 285, 250, 260]$$\n",
    "\n",
    "Usando $\\alpha$ = 5% de significância, pode-se dizer que o preço médio da passagem de ida e volta, com desconto, diminui em março, em relação a fevereiro?\n",
    "\n",
    "- Hipótese:\\\n",
    "$H_0 \\rightarrow \\mu=290$\\\n",
    "$H_1 \\rightarrow \\mu<290$ (teste unilateral à esquerda)"
   ]
  },
  {
   "cell_type": "code",
   "execution_count": 9,
   "metadata": {},
   "outputs": [
    {
     "name": "stdout",
     "output_type": "stream",
     "text": [
      "x_critico:  290.28  - a_mean:  270.0 \n",
      "\n",
      "Rejeita H0 -> média é menor que R$ 290\n"
     ]
    }
   ],
   "source": [
    "x = [310,260,265,255,300,310,230,250,265,280,290,240,285,250,260] # amostra\n",
    "x_mean = np.mean(x) # média amostral\n",
    "x_std = np.std(x) # std amostral\n",
    "n = len(x) # tamanho da amostra\n",
    "mu = 290 # média populacional\n",
    "alpha = 0.05 # nível de significância\n",
    "\n",
    "t_alpha = stats.t.ppf(1-alpha, df=n-1) # estatística\n",
    "x_critico = t_alpha*(a_std/np.sqrt(n)) + mu # valor crítico\n",
    "\n",
    "print('x_critico: ', round(x_critico,2), ' - a_mean: ', round(x_mean,2),'\\n')\n",
    "if (x_mean < x_critico): \n",
    "    print('Rejeita H0 -> média é menor que R$ 290')\n",
    "else:\n",
    "    print('Aceita H0 -> média é igual a R$ 290')"
   ]
  },
  {
   "cell_type": "markdown",
   "metadata": {},
   "source": [
    "**Exercício 4**\n",
    "\n",
    "Um fabricante de creme dental alega que no máximo 3% dos seus produtos apresentam menos de 100 gramas por embalagem. Uma amostra aleatória com 300 produtos revelou que 14 possuı́am menos de 100 gramas. Assumindo o nı́vel de significância de 1% é possı́vel dizer que o fabricante está mentindo?\n",
    "\n",
    "- Hipótese:\\\n",
    "$H_0 \\rightarrow p\\le0.03$\\\n",
    "$H_1 \\rightarrow p>0.03$ (teste unilateral à esquerda)"
   ]
  },
  {
   "cell_type": "code",
   "execution_count": 10,
   "metadata": {},
   "outputs": [
    {
     "name": "stdout",
     "output_type": "stream",
     "text": [
      "p_critico:  0.0261  - p_hat:  0.0467 \n",
      "\n",
      "Rejeita H0 -> mais que 3% dos produtos têm menos de 100 gramas\n"
     ]
    }
   ],
   "source": [
    "n = 300 # tamanho da amostra\n",
    "p = 0.03 # proporção afirmada pelo fabricante\n",
    "p_hat = 14/300 # proporção amostral\n",
    "alpha = 0.01 # nível de significância\n",
    "\n",
    "z_value = stats.norm.ppf(1-alpha) # estatística\n",
    "p_critico = -z_value*((p*(1-p))/np.sqrt(n)) + p # valor crítico\n",
    "\n",
    "print('p_critico: ', round(p_critico,4), ' - p_hat: ', round(p_hat,4),'\\n')\n",
    "if (p_hat > p_critico): \n",
    "    print('Rejeita H0 -> mais que 3% dos produtos têm menos de 100 gramas')\n",
    "else:\n",
    "    print('Aceita H0 -> no máximo 3% dos produtos têm menos de 100 gramas')"
   ]
  },
  {
   "cell_type": "markdown",
   "metadata": {},
   "source": [
    "**Exercício 5**\n",
    "\n",
    "Seja X uma v.a. correspondente ao peso do animal. Sabe-se que X~N(μ,σ²) com μ=30g e σ²=40. A média do peso pode variar se as condições de manejo não são adequadas. Para verificar se as condições estão adequadas, obteve-se uma amostra (n=25), cujos valores foram:\n",
    "\n",
    "$$[30.26, 39.62, 21.29, 31.35, 26.12, 29.83, 26.31, 39.97, 28.01, 37.54, 25.28, 33.51, 39.57, 41.42,\n",
    " 23.69, 40.53, 25.88, 23.11, 34.38, 35.15, 40.16, 29.51, 26.09, 24.96, 26.47]$$\n",
    "\n",
    "- Hipótese:\\\n",
    "$H_0 \\rightarrow \\mu=30$\\\n",
    "$H_1 \\rightarrow \\mu\\neq30$ (teste bilateral)\n",
    " \n",
    "onde $\\alpha$=0.05"
   ]
  },
  {
   "cell_type": "code",
   "execution_count": 11,
   "metadata": {},
   "outputs": [
    {
     "name": "stdout",
     "output_type": "stream",
     "text": [
      "x1_critico:  14.32  - x2_critico:  45.68  - x_mean:  31.2 \n",
      "\n",
      "Aceita H0 -> média é igual a 30\n"
     ]
    }
   ],
   "source": [
    "x = [30.26, 39.62, 21.29, 31.35, 26.12, 29.83, 26.31, 39.97, 28.01, 37.54, 25.28, 33.51, 39.57, 41.42,\n",
    " 23.69, 40.53, 25.88, 23.11, 34.38, 35.15, 40.16, 29.51, 26.09, 24.96, 26.47] # amostra\n",
    "x_mean = np.mean(x) # média amostral\n",
    "n = len(x) # tamanho da amostra\n",
    "mu = 30 # média populacional\n",
    "sigma = 40 # std populacional\n",
    "alpha = 0.05 # nível de significância\n",
    "\n",
    "z_value = stats.norm.ppf(1-(alpha*0.5)) # estatística\n",
    "x1_critico = -z_value*(sigma/np.sqrt(n)) + mu # valor crítico\n",
    "x2_critico = z_value*(sigma/np.sqrt(n)) + mu # valor crítico\n",
    "\n",
    "print('x1_critico: ', round(x1_critico,2), ' - x2_critico: ', round(x2_critico,2),\n",
    "      ' - x_mean: ', round(x_mean,2),'\\n')\n",
    "if (x_mean < x1_critico) or (x_mean > x2_critico): \n",
    "    print('Rejeita H0 -> média é diferente de 30')\n",
    "else:\n",
    "    print('Aceita H0 -> média é igual a 30')"
   ]
  },
  {
   "cell_type": "markdown",
   "metadata": {},
   "source": [
    "**Exercício 6**\n",
    "\n",
    "Uma máqina para colocar vacinas nos frascos enche-os com com volume X, X~N(500ml,σ²). Cada dia toma-se uma amostra de 16 frascos para avaliar se a máquina esta regulada. Em um dia obteve-se a amostra:\n",
    "\n",
    "$$[509.42, 476.79, 507.27, 458.10, 473.30, 501.41, 515.07, 518.07,\n",
    "463.76, 493.95, 521.62, 503.41, 480.71, 495.32, 481.55, 472.32]$$\n",
    "\n",
    "a) Fazer um teste de hipóteses para testar se a média difere ou não de 500ml,\n",
    "com (α=0,01).\\\n",
    "b) Fazer um teste de hipóteses para testar se a variância difere ou não de 400ml²\n",
    "(α=0,10)."
   ]
  },
  {
   "cell_type": "markdown",
   "metadata": {},
   "source": [
    "(a) Hipótese:\\\n",
    "$H_0 \\rightarrow \\mu=500$\\\n",
    "$H_1 \\rightarrow \\mu\\neq500$ (teste bilateral)"
   ]
  },
  {
   "cell_type": "code",
   "execution_count": 12,
   "metadata": {},
   "outputs": [
    {
     "name": "stdout",
     "output_type": "stream",
     "text": [
      "x1_critico:  499.54  - x2_critico:  500.46  - x_mean:  492.0 \n",
      "\n",
      "Rejeita H0 -> média é diferente de 500ml\n"
     ]
    }
   ],
   "source": [
    "x = [509.42, 476.79, 507.27, 458.10, 473.30, 501.41, 515.07, 518.07,\n",
    "463.76, 493.95, 521.62, 503.41, 480.71, 495.32, 481.55, 472.32] # amostra\n",
    "x_mean = np.mean(x) # média amostral\n",
    "x_std = np.std(x) # std amostral\n",
    "n = len(a) # tamanho da amostra\n",
    "mu = 500 # média populacional\n",
    "alpha = 0.01 # nível de significância\n",
    "\n",
    "t_value = stats.t.ppf(1-(alpha*0.5), df=n-1) # estatística\n",
    "x1_critico = -t_value*(a_std/np.sqrt(n)) + mu # valor crítico\n",
    "x2_critico = t_value*(a_std/np.sqrt(n)) + mu # valor crítico\n",
    "\n",
    "print('x1_critico: ', round(x1_critico,2), ' - x2_critico: ', round(x2_critico,2),\n",
    "      ' - x_mean: ', round(x_mean,2),'\\n')\n",
    "if (x_mean < x1_critico) or (x_mean > x2_critico): \n",
    "    print('Rejeita H0 -> média é diferente de 500ml')\n",
    "else:\n",
    "    print('Aceita H0 - média é igual a 500ml')"
   ]
  },
  {
   "cell_type": "markdown",
   "metadata": {},
   "source": [
    "(b) Hipótese:\\\n",
    "$H_0 \\rightarrow \\sigma²=400ml²$\\\n",
    "$H_1 \\rightarrow \\sigma²\\neq400ml²$ (teste bilateral)\n",
    "\n",
    "Ref: [[1]](http://www.portalaction.com.br/inferencia/55-teste-para-variancia)"
   ]
  },
  {
   "cell_type": "code",
   "execution_count": 13,
   "metadata": {},
   "outputs": [
    {
     "name": "stdout",
     "output_type": "stream",
     "text": [
      "chi2 value1: 7.26 - chi2 value2:  25.0 - chi2 amostra:  14.09 \n",
      "\n",
      "Rejeita H0 -> variância diferente de 400ml²\n"
     ]
    }
   ],
   "source": [
    "sigma = 400 # variância populacional\n",
    "alpha = 0.10 # nível de significância\n",
    "\n",
    "chi2_amostra = ((n-1)*(x_std**2))/sigma # estatística\n",
    "chi2_critico1 = stats.chi2.ppf(alpha*0.5, df=n-1) # valor crítico\n",
    "chi2_critico2= stats.chi2.ppf(1-(alpha*0.5), df=n-1) # valor crítico\n",
    "\n",
    "print('chi2 value1:', round(chi2_critico1,2),'- chi2 value2: ', round(chi2_critico2,2),\n",
    "      '- chi2 amostra: ', round(chi2_amostra,2),'\\n')\n",
    "if (chi2_amostra < chi2_critico1) or (chi2_amostra > chi2_critico1): \n",
    "    print('Rejeita H0 -> variância diferente de 400ml²')\n",
    "else:\n",
    "    print('Aceita H0 -> variância igual a 400ml²')"
   ]
  },
  {
   "cell_type": "markdown",
   "metadata": {},
   "source": [
    "**Exercício 7**\n",
    "\n",
    "A quantidade de de calorias X de um produto segue uma distribuição X~N(μ,σ²). O fabricante afirma que a quantidade de calorias é 30 cal. Um concorrente questiona e diz que é mais que 30. Toma-se uma amostra de tamanho 25 e os valores observados foram:\n",
    "\n",
    "$$[36.25, 30.69, 32.68, 30.43, 31.24, 32.73, 30.06, 32.71, 30.44,\n",
    "31.48, 28.56, 29.29, 31.28, 33.30, 32.32, 30.63, 31.13, 32.72,\n",
    "30.63, 31.37, 35.46, 25.15, 30.55, 36.57, 29.87]$$\n",
    "\n",
    "Fazer um teste de hipóteses para testar se o fabricante ou o concorrente tem razão\n",
    "(α=0,10).\n",
    "\n",
    "- Hipótese:\\\n",
    "$H_0 \\rightarrow \\mu=30$\\\n",
    "$H_1 \\rightarrow \\mu\\neq30$ (teste bilateral)"
   ]
  },
  {
   "cell_type": "code",
   "execution_count": 11,
   "metadata": {},
   "outputs": [
    {
     "name": "stdout",
     "output_type": "stream",
     "text": [
      "Rejeita H0 -> média diferente de 30 cal\n"
     ]
    }
   ],
   "source": [
    "x = [36.25,30.69,32.68,30.43,31.24,32.73,30.06,32.71,30.44,31.48,\n",
    "     28.56,29.29,31.28,33.30,32.32,30.63,31.13,32.72,30.63,31.37,35.46,25.15,30.55,36.57,29.87] # amostras\n",
    "n = len(x) # tamanho da amostra\n",
    "x_mean = np.mean(x) # média amostral\n",
    "x_std = np.std(x) # std amostral\n",
    "mu = 30 # média população\n",
    "alpha = 0.10 # nível de significância\n",
    "\n",
    "t_value = stats.t.ppf(1-(alpha*0.5), df=n-1) # estatística\n",
    "x1_critico = -t_value*(a_std/np.sqrt(n)) + mu # valor crítico\n",
    "x2_critico = t_value*(a_std/np.sqrt(n)) + mu # valor crítico\n",
    "\n",
    "if (x_mean < x1_critico) or (x_mean > x2_critico): \n",
    "    print('Rejeita H0 -> média diferente de 30 cal')\n",
    "else:\n",
    "    print('Aceita H0 -> média é igual a 30 cal')"
   ]
  },
  {
   "cell_type": "markdown",
   "metadata": {},
   "source": [
    "**Exercício 8**\\\n",
    "Em um experimento de adubação de pastagens foram comparadas dois tipos de adubação (química e orgânica). Seja X a altura da planta com $X_q$ é N($\\mu_q,\\sigma²)$ e $X_o$ é N($\\mu_q,\\sigma²)$. Observaram-se 12 parcelas de $X_q$ e 10 parcelas de $X_o$. Os resultados são apresentados a seguir:\n",
    "\n",
    "Xq = [58.0, 67.1, 56.4, 63.5, 65.9, 60.0, 62.6, 59.6, 70.0, 67.9, 69.9, 74.1]\\\n",
    "Xo = [74.9, 82.7, 71.8, 70.0, 71.8, 78.0, 69.6, 75.8, 62.8, 72.4]\n",
    "\n",
    "a) Fazer um teste de hipóteses para testar a hipótese de homocedasticidade\n",
    "(α=0,05).\\\n",
    "b) Fazer um teste de hipóteses para testar as hipótesesda médias serem iguais ou\n",
    "não - $H_0$: $\\mu_q=\\mu_o$ vs $H_1$: $\\mu_q \\ne \\mu_o$ ($\\alpha$=0,05).\n",
    "\n"
   ]
  },
  {
   "cell_type": "markdown",
   "metadata": {},
   "source": [
    "(a) Hipótese:\\\n",
    "$H_0 \\rightarrow \\sigma_{q}^²=\\sigma_{o}²$\\\n",
    "$H_1 \\rightarrow \\sigma_{q}^²\\neq\\sigma_{o}²$ (teste bilateral)\n",
    "\n",
    "Ref: [[2]](http://www.portalaction.com.br/inferencia/56-teste-para-comparacao-de-duas-variancias-teste-f)"
   ]
  },
  {
   "cell_type": "code",
   "execution_count": 16,
   "metadata": {},
   "outputs": [
    {
     "name": "stdout",
     "output_type": "stream",
     "text": [
      "Aecita H0 -> homocedasticidade\n"
     ]
    }
   ],
   "source": [
    "x1 = [58.0, 67.1, 56.4, 63.5, 65.9, 60.0, 62.6, 59.6, 70.0, 67.9, 69.9, 74.1] # amostra 1\n",
    "n1 = len(x1) # tamanho da amostra 1\n",
    "x1_var = np.var(x1) # variância da amostra 1\n",
    "x2 = [74.9, 82.7, 71.8, 70.0, 71.8, 78.0, 69.6, 75.8, 62.8, 72.4] # amostra 2\n",
    "n2 = len(x2) # tamanho da amostra 2\n",
    "x2_var = np.var(x2) # variância da amostra 2\n",
    "alpha = 0.05 # nível de significância\n",
    "\n",
    "F_amostras = x1_var/x2_var #  estatística\n",
    "chi2_critico1 = stats.f.ppf(alpha*0.5, dfn=n1, dfd=n2) # valor crítico\n",
    "chi2_critico2 = stats.f.ppf(1-(alpha*0.5), dfn=n1, dfd=n2) # valor crítico\n",
    "\n",
    "if (F_amostras < chi2_critico1) or (F_amostras > chi2_critico2):\n",
    "    print('Rejeita H0 -> variâncias diferentes')\n",
    "else:\n",
    "    print('Aecita H0 -> homocedasticidade')"
   ]
  },
  {
   "cell_type": "markdown",
   "metadata": {},
   "source": [
    "(b) Hipótese:\\\n",
    "$H_0 \\rightarrow \\mu_{q}=\\mu_{o}$\\\n",
    "$H_1 \\rightarrow \\mu_{q}\\neq\\mu_{o}$ (teste bilateral)\n",
    "\n",
    "Ref: [[3]](http://www.portalaction.com.br/inferencia/571-comparacao-de-medias-variancias-iguais)"
   ]
  },
  {
   "cell_type": "code",
   "execution_count": 17,
   "metadata": {},
   "outputs": [
    {
     "name": "stdout",
     "output_type": "stream",
     "text": [
      "Aceita H0 -> médias são iguais\n"
     ]
    }
   ],
   "source": [
    "x1_mean = np.mean(x1) # média da amostra 1\n",
    "x1_std = np.std(x1) # std da amostra 1\n",
    "x2_mean = np.mean(x2) # média da amostra 2\n",
    "x2_std = np.mean(x2) # std da amostra 2\n",
    "alpha = 0.05 # nível de significância\n",
    "\n",
    "sp = np.sqrt(((n1-1)*x1_var + (n2-1)*x2_var)/(n1+n2-2)) # std agrupado (pooled)\n",
    "t_amostras = (x2_mean - x1_mean)/sp*np.sqrt((1/n1) + (1/n2)) # estatística\n",
    "t_value = stats.t.ppf(1-(alpha*0.5), df=(n1+n2)-2) # valor crítico\n",
    "\n",
    "if (t_amostras < -t_value) or (t_amostras > t_value):\n",
    "    print('Rejeita H0 -> médias são diferentes')\n",
    "else:\n",
    "    print('Aceita H0 -> médias são iguais')"
   ]
  },
  {
   "cell_type": "code",
   "execution_count": 19,
   "metadata": {},
   "outputs": [
    {
     "name": "stdout",
     "output_type": "stream",
     "text": [
      "p_value: 0.002 < 0.05 --> aceita H0 onde amostras tem médias iguais\n"
     ]
    }
   ],
   "source": [
    "# verificação com teste-t do scipy - H0: médias iguais\n",
    "print('p_value:', round(stats.ttest_ind(x1, x2)[1],3), '< 0.05 --> aceita H0 onde amostras tem médias iguais')"
   ]
  },
  {
   "cell_type": "markdown",
   "metadata": {},
   "source": [
    "**Exercício 9**\n",
    "\n",
    "Avalia-se o diâmetro das patas dianteiras de 25 animais (pata com o procedimento cirurgico - CPC, e pata sem o procedimento cirurgico - SPC). Se X é o diâmetro da pata, com $X_{cpc}$ é N($\\mu_{spc},\\sigma^2)$ e $X_{cpc}$ é N($\\mu_{spc},\\sigma^2)$. Os resultados são apresentados a seguir:\n",
    "\n",
    "SPC = [14.8, 15.1, 14.7, 14.7, 15.1, 16.2, 14.5, 14.5, 14.1, 14.1, 14.1, 15.1, 15.1, 15.5, 14.7, 14.8, \n",
    "        14.4, 14.6, 15.2, 14.8, 14.8, 15.0, 15.8, 14.7, 14.1, 15.8]\n",
    "CPC = [14.4, 14.9, 15.3, 14.7, 14.5, 14.8, 14.9, 15.4, 15.4, 15.3, 15.4, 14.9, 14.8, 15.1, 15.6, 15.0,\n",
    "        15.7, 14.4, 14.9, 14.9, 15.2, 15.7, 15.0, 15.0, 15.3, 15.4]\n",
    "        \n",
    "Fazer um teste de hipóteses para testar as hipóteses:\n",
    "\n",
    "$H_0 \\rightarrow \\mu_{spc}=\\mu_{cpc}$\\\n",
    "$H_1 \\rightarrow \\mu_{spc}<\\mu_{cpc}$ (teste unilateral)\n",
    "\n",
    "Onde $\\alpha$=0,05\n",
    "\n",
    "Ref: [[4]](http://www.portalaction.com.br/inferencia/58-teste-t-pareado)"
   ]
  },
  {
   "cell_type": "code",
   "execution_count": 21,
   "metadata": {},
   "outputs": [
    {
     "name": "stdout",
     "output_type": "stream",
     "text": [
      "Aceita H0 -> médias são iguais\n"
     ]
    }
   ],
   "source": [
    "x1 = [14.8, 15.1, 14.7, 14.7, 15.1, 16.2, 14.5, 14.5, 14.1, 14.1, 14.1, 15.1, 15.1, 15.5, 14.7, 14.8, \n",
    "     14.4, 14.6, 15.2, 14.8, 14.8, 15.0, 15.8, 14.7, 14.1, 15.8] # SPC\n",
    "x1_mean = np.mean(x1) # média amostra SPC\n",
    "x1_std = np.std(x1) # std amostra SPC\n",
    "n = len(x1) # tamanho da amostra -> igual para ambos -> dados pareados\n",
    "x2 =  [14.4, 14.9, 15.3, 14.7, 14.5, 14.8, 14.9, 15.4, 15.4, 15.3, 15.4, 14.9, 14.8, 15.1, 15.6, 15.0,\n",
    "        15.7, 14.4, 14.9, 14.9, 15.2, 15.7, 15.0, 15.0, 15.3, 15.4] # CPC\n",
    "x2_mean = np.mean(x2) # média amostra CPC\n",
    "x2_std = np.mean(x2) # std amostra CPC\n",
    "alpha = 0.05 # nível de significância\n",
    "\n",
    "delta_sq = []\n",
    "delta = []\n",
    "for i in range(n):\n",
    "    delta.append(x1[i] -  x2[i])\n",
    "    delta_sq.append((x1[i] - x2[i])**2)\n",
    "delta_mean_sq = (np.mean(delta))**2 # média das diferenças internas dos pares\n",
    "delta_sq_sum = sum(delta_sq)\n",
    "s_D = np.sqrt((delta_sq_sum - n*delta_mean_sq)/(n-1)) # desvio padrão das diferenças internas dos pares\n",
    "\n",
    "t_amostras = (np.mean(delta)*np.sqrt(n))/(s_D) # estatística\n",
    "t_value = stats.t.ppf(1-alpha, df=n-1) # valor crítico\n",
    "\n",
    "if (t_amostras < -t_value):\n",
    "    print('Rejeita H0 -> médias são diferentes: SPC < CPC')\n",
    "else:\n",
    "    print('Aceita H0 -> médias são iguais')"
   ]
  },
  {
   "cell_type": "code",
   "execution_count": 22,
   "metadata": {},
   "outputs": [
    {
     "name": "stdout",
     "output_type": "stream",
     "text": [
      "p_value: 0.146  > 0.05: não rejeita H0\n"
     ]
    }
   ],
   "source": [
    "# verificação com teste-t do scipy - H0: médias iguais\n",
    "print('p_value:',round(stats.ttest_rel(x1,x2)[1],3),' > 0.05: não rejeita H0')"
   ]
  },
  {
   "cell_type": "markdown",
   "metadata": {},
   "source": [
    "**Exercício 10**\n",
    "\n",
    "Um produtor afirma que 60% dos peixes deuma represa pesam mais que 1 kg. O comprador, para testar a hipótese do vendedor, tomou uma amostra de 200 peixes, dos quais 104 pesaram mais de 1 kg. Fazer um teste de hipóteses para testar as hipóteses: \n",
    "\n",
    "$H_0 \\rightarrow p=0.60$\\\n",
    "$H_1 \\rightarrow p<0.60$ (teste unilateral)\n",
    "\n",
    "Onde $\\alpha=0.10$"
   ]
  },
  {
   "cell_type": "code",
   "execution_count": 23,
   "metadata": {},
   "outputs": [
    {
     "name": "stdout",
     "output_type": "stream",
     "text": [
      "p_hat: 0.52 - p_critico: 0.578 \n",
      "\n",
      "Rejeita H0 -> p < 60%\n"
     ]
    }
   ],
   "source": [
    "p = 0.6 # proporção afirmada\n",
    "n = 200 # tamanho da amostra\n",
    "p_hat = 104/n # proporção amostral\n",
    "alpha = 0.10 # nível de significância\n",
    "\n",
    "z_value = stats.norm.ppf(1-alpha) # estatística\n",
    "p_critico = -z_value*((p*(1-p))/np.sqrt(n)) + p # valor crítico\n",
    "\n",
    "print('p_hat:', round(p_hat,3), '- p_critico:', round(p_critico,3),'\\n')\n",
    "if (p_hat < p_critico): \n",
    "    print('Rejeita H0 -> p < 60%')\n",
    "else:\n",
    "    print('Aceita H0 -> p > 60%')"
   ]
  },
  {
   "cell_type": "markdown",
   "metadata": {},
   "source": [
    "**Exercício 11**\n",
    "\n",
    "Para testar se a proporção de novilhas de uma fazenda F1 é a mesma que na fazenda F2, o agricultor tomou uma amostra de tamanho 100 na F1 - obteve 25 novilhas, e uma amostra de tamanho 120 na F2 – obteve 45 novilhas. Testar as hipóteses:\n",
    "\n",
    "$H_0 \\rightarrow p1=p2$\\\n",
    "$H_1 \\rightarrow p1\\neq p2$ (teste bilateral)\n",
    "\n",
    "Onde $\\alpha=0,05$\n",
    "\n",
    "Ref: [[5]](http://www.portalaction.com.br/inferencia/59-teste-para-comparacao-de-duas-proporcoes)"
   ]
  },
  {
   "cell_type": "code",
   "execution_count": 18,
   "metadata": {},
   "outputs": [
    {
     "name": "stdout",
     "output_type": "stream",
     "text": [
      "Rejeita H0 -> p1 é diferente de p2\n"
     ]
    }
   ],
   "source": [
    "n1 = 100 # tamanho da amostra 1\n",
    "phat_1 = 25/n1 # proporção da amostra 1\n",
    "n2 = 120 # tamanho da amostra 2\n",
    "phat_2 = 45/n2 # proporção da amostra 2\n",
    "alpha = 0.05 # nível de significância\n",
    "\n",
    "z_alpha = stats.norm.ppf(1-(alpha*0.5)) # estatística\n",
    "p_hat = (n1*phat_1 + n2*phat_2)/(n1+n2) \n",
    "z_amostras = (phat_1 - phat_2)/(np.sqrt(((p_hat*(1-p_hat))/n1)+((p_hat*(1-p_hat))/n2))) # valor crítico\n",
    "\n",
    "if (z_amostras < -z_alpha) or (z_amostras > z_alpha):\n",
    "    print('Rejeita H0 -> p1 é diferente de p2')\n",
    "else:\n",
    "    print('Aceita H0 -> p1 é igual a p2')"
   ]
  },
  {
   "cell_type": "markdown",
   "metadata": {},
   "source": [
    "**Exercício 12**\n",
    "\n",
    "Para decidirmos se os habitantes de uma ilha são descendentes da civilização A ou B, iremos proceder do seguinte modo:\\\n",
    "(i) selecionamos uma amostra de 100 moradores adultos da ilha, e determinamos a altura média deles;\\\n",
    "(ii) se essa altura média for superior a 176, diremos que são descendentes de B; caso contrário, são descendentes de A.\n",
    "\n",
    "Os parâmetros das alturas das duas civilizações são:\\\n",
    "A: μ = 175 e σ = 10; B: μ = 177 e σ = 10.\n",
    "\n",
    "Defina: \\\n",
    "Erro do tipo I – dizer que os habitantes da ilha são descendentes de B quando, na realidade, são de A.\\\n",
    "Erro do tipo II – dizer que são de A quando são de B."
   ]
  },
  {
   "cell_type": "markdown",
   "metadata": {},
   "source": [
    "$H_0 \\rightarrow \\mu>176 \\rightarrow$ pertence a B\\\n",
    "$H_1 \\rightarrow \\mu\\neq176 \\rightarrow$ pertence a A"
   ]
  },
  {
   "cell_type": "code",
   "execution_count": 25,
   "metadata": {},
   "outputs": [
    {
     "name": "stdout",
     "output_type": "stream",
     "text": [
      "probabilidade de erro tipo I: 0.159\n"
     ]
    }
   ],
   "source": [
    "# erro tipo I -> rejeitar H0 quando H0 é verdadeira\n",
    "x_critico = 176\n",
    "mu_a = 175\n",
    "sigma_a = 10\n",
    "n = 100\n",
    "\n",
    "z_alpha = (x_critico-mu_a)/(sigma_a/np.sqrt(n))\n",
    "\n",
    "print('probabilidade de erro tipo I:', round(1-stats.norm.cdf(z_alpha),3))"
   ]
  },
  {
   "cell_type": "code",
   "execution_count": 26,
   "metadata": {},
   "outputs": [
    {
     "name": "stdout",
     "output_type": "stream",
     "text": [
      "probabilidade de erro tipo II: 0.159\n"
     ]
    }
   ],
   "source": [
    "# erro tipo II -> aceitar H0 quando H0 é falsa\n",
    "z_alpha = -(x_critico-mu_a)/(sigma_a/np.sqrt(n))\n",
    "\n",
    "print('probabilidade de erro tipo II:', round(stats.norm.cdf(z_alpha),3))"
   ]
  },
  {
   "cell_type": "markdown",
   "metadata": {},
   "source": [
    "**Exercício 13**\n",
    "\n",
    "A associação dos proprietários de indústrias metalúrgicas está muito preocupada com o tempo perdido com acidentes de trabalho, cuja média, nos últimos tempos, tem sido da ordem de 60 horas/homem por ano e desvio padrão de 20 horas/homem. Tentou-se um programa de prevenção de acidentes, após o qual foi tomada uma amostra de nove indústrias e medido o número de horas/homens perdidos por acidentes, que foi de 50 horas. Você\n",
    "diria, no nı́vel de 5%, que há evidência de melhoria?\n",
    "\n",
    "- Hipótese:\\\n",
    "$H_0 \\rightarrow \\mu_{antes}=\\mu_{depois}$\\\n",
    "$H_1 \\rightarrow \\mu_{antes}<\\mu_{depois}$ (teste unilateral)\n",
    "\n",
    "Onde $\\alpha$=0.05"
   ]
  },
  {
   "cell_type": "code",
   "execution_count": 31,
   "metadata": {},
   "outputs": [
    {
     "name": "stdout",
     "output_type": "stream",
     "text": [
      "Aceita H0 -> não há evidência de melhora\n"
     ]
    }
   ],
   "source": [
    "n = 9 # tamanho da amostra\n",
    "mu = 60 # média da população\n",
    "std = 20 # std da população\n",
    "x_amostra = 50 # média amostral\n",
    "alpha = 0.05 # nível de significância\n",
    "\n",
    "z_alpha = stats.norm.ppf(alpha) # estatística\n",
    "x_critico = z_alpha*(std/np.sqrt(n)) + mu # valor crítico\n",
    "\n",
    "if (x_amostra < x_critico): \n",
    "    print('Rejeita H0 -> há evidência de melhora')\n",
    "else:\n",
    "    print('Aceita H0 -> não há evidência de melhora')"
   ]
  },
  {
   "cell_type": "markdown",
   "metadata": {},
   "source": [
    "**Exercício 14**\n",
    "\n",
    "Uma companhia de cigarros anuncia que o ı́ndice médio de nicotina dos cigarros que fabrica apresenta-se abaixo de 23 mg por cigarro. Um laboratório realiza seis análises desse ı́ndice, obtendo: 27, 24, 21, 25, 26, 22. Sabe-se que o ı́ndice de nicotina se distribui normalmente, com variância igual a 4.86 mg2 . Pode-se aceitar, no nı́vel de 10%, a afirmação do fabricante?\n",
    "\n",
    "- Hipótese:\\\n",
    "$H_0 \\rightarrow \\mu\\ge23$ fabricante mente\\\n",
    "$H_1 \\rightarrow \\mu<23$ fabricante diz a verdade (teste unilateral)"
   ]
  },
  {
   "cell_type": "code",
   "execution_count": 24,
   "metadata": {},
   "outputs": [
    {
     "name": "stdout",
     "output_type": "stream",
     "text": [
      "Aceita H0 -> fabricante mente\n"
     ]
    }
   ],
   "source": [
    "alpha = 0.1 # nível de significância\n",
    "x = [27, 24, 25, 26, 22] # amostra\n",
    "x_mean = np.mean(x) # média amostral\n",
    "n = len(x) # tamanho da amostra\n",
    "mu = 23 # média populacional\n",
    "std = np.sqrt(4.86) # std populaiconal\n",
    "\n",
    "z_alpha = stats.norm.ppf(alpha) # estatística\n",
    "x_critico = z_alpha*(std/np.sqrt(n)) + mu # valor crítico\n",
    "\n",
    "if (x_mean < x_critico):\n",
    "    print('Rejeita H0 -> fabricante diz a verdade')\n",
    "else:\n",
    "    print('Aceita H0 -> fabricante mente')"
   ]
  },
  {
   "cell_type": "markdown",
   "metadata": {},
   "source": [
    "**Exercício 15**\n",
    "\n",
    "O consumidor de um certo produto acusou o fabricante, dizendo que mais de 20% das unidades fabricadas apresentam defeito. Para confirmar sua acusação, ele usou uma amostra de tamanho 50, onde 27% das peças eram defeituosas. Moste como o fabricante poderia refutar a acusação. Utilize um nı́vel de significância de 10%.\n",
    "\n",
    "- Hipótese:\\\n",
    "$H_0 \\rightarrow p=0.2 $ fabricante diz a verdade\\\n",
    "$H_1 \\rightarrow p>0.2 $ fabricante mente (teste unilateral)"
   ]
  },
  {
   "cell_type": "code",
   "execution_count": 25,
   "metadata": {},
   "outputs": [
    {
     "name": "stdout",
     "output_type": "stream",
     "text": [
      "Aceita H0 -> fabricante mente\n"
     ]
    }
   ],
   "source": [
    "n = 50 # tamanho da amostra\n",
    "alpha = 0.1 # nível de significância\n",
    "p_hat = 0.27 # proporção amostral\n",
    "p = 0.2 # proporção populacional\n",
    "\n",
    "z_alpha = stats.norm.ppf(1-alpha) # estatística\n",
    "p_critico = z_alpha*np.sqrt((p*(1-p))/(n)) + p # valor crítico\n",
    "\n",
    "if (p_hat > p_critico):\n",
    "    print('Rejeita H0 -> fabricante diz a verdade')\n",
    "else:\n",
    "    print('Aceita H0 -> fabricante mente')"
   ]
  },
  {
   "cell_type": "markdown",
   "metadata": {},
   "source": [
    "**Exercício 16**\n",
    "\n",
    "Um fabricante garante que 90% dos equipamentos que fornece a uma fábrica estão de acordo com as especificações exigidas. O exame de uma amostra de 200 peças desse equipamento revelou 25 defeituosas. Teste a afirmativa do fabricante, nos nı́veis de 5% e 1%.\n",
    "\n",
    "- Hipótese:\\\n",
    "$H_0 \\rightarrow p=0.9$ fabricante não mente -> tudo continua igual\\\n",
    "$H_1 \\rightarrow p<0.9$ fabricante mente (teste unilateral)\n",
    "\n",
    "Onde $\\alpha$ = 0.05 e 0.01"
   ]
  },
  {
   "cell_type": "code",
   "execution_count": 26,
   "metadata": {},
   "outputs": [
    {
     "name": "stdout",
     "output_type": "stream",
     "text": [
      "Aceita H0 -> p > 0.9\n"
     ]
    }
   ],
   "source": [
    "# alpha = 0.05\n",
    "alpha = 0.05\n",
    "n = 200 # tamanho da amostra\n",
    "p_hat = 1-25/n # proporção amostral\n",
    "p = 0.9 # proporção populacional\n",
    "\n",
    "z_alpha = stats.norm.ppf(alpha) # estatística\n",
    "p_critico = z_alpha*np.sqrt((p*(1-p))/n) + p # valor crítico\n",
    "\n",
    "if (p_hat < p_critico):\n",
    "    print('Rejeita H0 -> p < 0.9')\n",
    "else:\n",
    "    print('Aceita H0 -> p > 0.9')"
   ]
  },
  {
   "cell_type": "code",
   "execution_count": 27,
   "metadata": {},
   "outputs": [
    {
     "name": "stdout",
     "output_type": "stream",
     "text": [
      "Aceita H0 -> p > 0.9\n"
     ]
    }
   ],
   "source": [
    "# alpha = 0.01\n",
    "alpha = 0.01\n",
    "\n",
    "z_alpha = stats.norm.ppf(alpha)\n",
    "p_critico = z_alpha*np.sqrt((p*(1-p))/n) + p\n",
    "\n",
    "if (p_hat < p_critico): \n",
    "    print('Rejeita H0 -> p < 0.9')\n",
    "else:\n",
    "    print('Aceita H0 -> p > 0.9')"
   ]
  },
  {
   "cell_type": "markdown",
   "metadata": {},
   "source": [
    "**Exercício 17**\n",
    "\n",
    "Suponha que queiramos testar H0 : μ = 50 contra H1 : μ > 50, onde μ é a média de uma normal N(μ, 900).\\\n",
    "Extraı́da uma amostra de n = 36 elementos da população, obtemos x̄ = 52. Calcule a probabilidade de significância $\\alpha$ do teste.\n",
    "\n",
    "- Hipótese:\\\n",
    "$H_0 \\rightarrow \\mu=50$\\\n",
    "$H_1 \\rightarrow \\mu>50$ (teste unilateral)"
   ]
  },
  {
   "cell_type": "code",
   "execution_count": 31,
   "metadata": {},
   "outputs": [
    {
     "name": "stdout",
     "output_type": "stream",
     "text": [
      "probabilidade de significância alpha: 0.3445782583896758\n"
     ]
    }
   ],
   "source": [
    "n = 36 # tamanho da amostra\n",
    "mu = 50 # média populacional\n",
    "std = np.sqrt(900) # std populacional\n",
    "\n",
    "x_critico = 52\n",
    "z_alpha = (x_critico-mu)/(std/np.sqrt(n)) # estatística\n",
    "p_value = stats.norm.cdf(z_alpha) # valor crítico\n",
    "\n",
    "print('probabilidade de significância alpha:',1-p_value)"
   ]
  },
  {
   "cell_type": "markdown",
   "metadata": {},
   "source": [
    "**Exercício 18**\n",
    "\n",
    "Os novos operários de uma empresa são treinados a operarem uma máquina, cujo tempo X (em horas) de aprendizado é anotado. Observou-se que X segue de perto a distribuição N(25, 100). Uma nova técnica de ensino, que deve melhorar o tempo de aprendizado, foi testada em 16 novos empregados, os quais apresentaram 20.5 horas como tempo médio de aprendizado. Usando o p-valor, você diria que a nova técnica é melhor que a anterior?\n",
    "\n",
    "- Hipótese:\\\n",
    "$H_0 \\rightarrow \\mu=25$\\\n",
    "$H_1 \\rightarrow \\mu<25$ (teste unilateral)\n"
   ]
  },
  {
   "cell_type": "code",
   "execution_count": 33,
   "metadata": {},
   "outputs": [
    {
     "name": "stdout",
     "output_type": "stream",
     "text": [
      "p_value 0.03593031911292579 é inferior a 0.05 -> nova técnica é melhor que a antiga\n"
     ]
    }
   ],
   "source": [
    "n = 16 # tamanho da amostra\n",
    "x_critico = 20.5\n",
    "mu = 25 # média populacional\n",
    "std = np.sqrt(100) # std populacional\n",
    "\n",
    "z_alpha = (x_critico-mu)/(std/(np.sqrt(n))) # estatística\n",
    "p_value = stats.norm.cdf(z_alpha)\n",
    "\n",
    "print('p_value',p_value,\n",
    "      'é inferior a 0.05 -> nova técnica é melhor que a antiga')"
   ]
  },
  {
   "cell_type": "markdown",
   "metadata": {},
   "source": [
    "**Exercício 19**\n",
    "\n",
    "Duas máquinas, A e B, são usadas para empacotar pó de café. A experiência passada garante que o desvio padrão para ambas é de 10g . Porém, suspeita-se que elas tem médias diferentes. Para verificar, sortearam-se duas amostras: uma com 25 pacotes da máquina A e outra com 16 pacotes da máquina B. As médias foram, respectivamente, x̄A = 502.74g e x̄B = 496.60g . Com esses números, e com nı́vel de 5%, qual seria a conclusão do teste H0: μA = μB ?\n",
    "\n",
    "- Hipótese:\\\n",
    "$H_0 \\rightarrow \\mu_A=\\mu_B$\\\n",
    "$H_1 \\rightarrow \\mu_{A}\\neq\\mu_B$ (teste bilateral)\n"
   ]
  },
  {
   "cell_type": "code",
   "execution_count": 35,
   "metadata": {},
   "outputs": [
    {
     "name": "stdout",
     "output_type": "stream",
     "text": [
      "Aceita H0 -> médias são iguais\n"
     ]
    }
   ],
   "source": [
    "n1 = 25 # tamanho da amostra 1\n",
    "n2 = 16 # tamanho da amostra 2\n",
    "a1_var = a2_var = 10**2 # std amostra\n",
    "a1_mean = 502.74 # média da amostra 1\n",
    "a2_mean = 496.6 # média da amostra 2\n",
    "alpha = 0.05 # nível de significância\n",
    "\n",
    "sp = np.sqrt(((n1-1)*a1_var + (n2-1)*a2_var)/(n1+n2-2)) # std agrupado (pooled)\n",
    "t_value = stats.t.ppf(1-(alpha*0.5), df=(n1+n2)-2) # estatística\n",
    "t_amostras = (a2_mean - a1_mean)/sp*np.sqrt((1/n1) + (1/n2)) # valor crítico\n",
    "\n",
    "if (t_amostras < -t_value) or (t_amostras > t_value):\n",
    "    print('Rejeita H0 -> médias são diferentes')\n",
    "else:\n",
    "    print('Aceita H0 -> médias são iguais')"
   ]
  }
 ],
 "metadata": {
  "kernelspec": {
   "display_name": "Python 3",
   "language": "python",
   "name": "python3"
  },
  "language_info": {
   "codemirror_mode": {
    "name": "ipython",
    "version": 3
   },
   "file_extension": ".py",
   "mimetype": "text/x-python",
   "name": "python",
   "nbconvert_exporter": "python",
   "pygments_lexer": "ipython3",
   "version": "3.8.3"
  }
 },
 "nbformat": 4,
 "nbformat_minor": 4
}
